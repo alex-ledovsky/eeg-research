{
 "cells": [
  {
   "cell_type": "code",
   "execution_count": 1,
   "id": "4eac764a",
   "metadata": {
    "scrolled": true
   },
   "outputs": [],
   "source": [
    "# !gdown 1dQC6v3Z3FgNVO__HL8mQVjTvmNdvobe5"
   ]
  },
  {
   "cell_type": "code",
   "execution_count": 1,
   "id": "838b7df6",
   "metadata": {},
   "outputs": [],
   "source": [
    "import torch\n",
    "from torch import nn\n",
    "from torchsummary import summary\n",
    "import mne\n",
    "import os\n",
    "import matplotlib.pyplot as plt\n",
    "import numpy as np\n",
    "import warnings\n",
    "import pandas as pd\n",
    "import scipy\n",
    "import torch.nn.functional as F\n",
    "from scipy.signal import spectrogram\n",
    "from torchsummary import summary\n",
    "from torch.utils.data import DataLoader, Dataset\n",
    "warnings.filterwarnings('ignore')\n",
    "%matplotlib inline\n",
    "device = 'cuda:0'"
   ]
  },
  {
   "cell_type": "markdown",
   "id": "3d55dfff",
   "metadata": {},
   "source": [
    "# To do:  \n",
    "1. Preproccess data from edf to csv +\n",
    "2. First approach based on spectrograms.\n",
    "3. Second approach http://users.cecs.anu.edu.au/~Tom.Gedeon/conf/ABCs2018/paper/ABCs2018_paper_216.pdf create rgb image.\n",
    "4. Third approach: https://sci-hub.hkvisa.net/10.1109/ACCESS.2018.2833746\n",
    "5. Compare different classifiers."
   ]
  },
  {
   "cell_type": "markdown",
   "id": "d301daa2",
   "metadata": {},
   "source": [
    "# Comments  \n",
    "1. There are 89 recordings with 21 channels and 9 recordings with 22 channels, so for the former I will take only 21 which are presented in the latter. Look at common_electrodes.\n",
    "2. For the first approch it is strictly necessary for all recordings to be the same length (I will take windows 4096 as in the paper)."
   ]
  },
  {
   "cell_type": "code",
   "execution_count": 2,
   "id": "ae98f0f0",
   "metadata": {},
   "outputs": [],
   "source": [
    "PATH = 'eeg_data/'\n",
    "PATH_TO_SAVE = 'eeg_data_csv/'\n",
    "# PATH_TO_SAVE_TENSORS = 'eeg_data_spec_tensors/'\n",
    "PATH_TO_SAVE_TENSORS = 'eeg_data_spec_tensors_unnorm/'"
   ]
  },
  {
   "cell_type": "code",
   "execution_count": 3,
   "id": "f35939d6",
   "metadata": {},
   "outputs": [],
   "source": [
    "# parameters are acquired during EDA\n",
    "common_electrodes = ['EEG FP1-R', 'EEG FP2-R', 'EEG F3-R', 'EEG F4-R', 'EEG C3-R', 'EEG C4-R', \n",
    "                     'EEG P3-R', 'EEG P4-R', 'EEG O1-R', 'EEG O2-R', 'EEG F7-R', 'EEG F8-R', \n",
    "                     'EEG T3-R', 'EEG T4-R', 'EEG T5-R', 'EEG T6-R', 'EEG FPZ-R', 'EEG FZ-R', \n",
    "                     'EEG CZ-R', 'EEG PZ-R', 'EEG OZ-R']\n",
    "\n",
    "\n",
    "min_length = 21500\n",
    "filter_params = {'l_freq': 1, 'h_freq': 50, 'method': 'iir', 'n_jobs': -1, 'verbose': False}\n",
    "Fs = 500"
   ]
  },
  {
   "cell_type": "code",
   "execution_count": 4,
   "id": "c923e0ec",
   "metadata": {},
   "outputs": [],
   "source": [
    "def get_np_from_edf(path_to_data, filter_params, path_to_save):\n",
    "    for cls in os.listdir(path_to_data):\n",
    "        for recording in os.listdir(path_to_data + f'{cls}/'):\n",
    "            filename = path_to_data + f'{cls}/' + recording\n",
    "            sample = mne.io.read_raw_edf(filename, verbose = False, preload = True)\n",
    "            if 'EEG 2-R' in sample.ch_names:\n",
    "                sample.drop_channels(['EEG 2-R'])\n",
    "#             sample.filter(**filter_params)\n",
    "            sample = sample.to_data_frame(common_electrodes)[common_electrodes]\n",
    "            if not os.path.isdir(path_to_save + f'{cls}'):\n",
    "                os.mkdir(path_to_save + f'{cls}')\n",
    "            sample.to_csv(path_to_save + f'{cls}/' + f'{recording[:-4]}.csv')"
   ]
  },
  {
   "cell_type": "code",
   "execution_count": 5,
   "id": "5c5883f1",
   "metadata": {},
   "outputs": [],
   "source": [
    "def normalise_spect(spectrogram):\n",
    "    min_value = np.min(spectrogram)\n",
    "    max_value = np.max(spectrogram)\n",
    "    spectrogram = 255 * (spectrogram - min_value) / (max_value - min_value)\n",
    "    return np.round(spectrogram).astype(int)"
   ]
  },
  {
   "cell_type": "code",
   "execution_count": 6,
   "id": "833d4583",
   "metadata": {},
   "outputs": [],
   "source": [
    "# is bandlimited from 1 to 50 Hz\n",
    "# w grows from the bottom to the top\n",
    "# time grows from the left to the right\n",
    "def get_spectrogram(path_to_data, path_to_save, Fs):\n",
    "    for cls in os.listdir(path_to_data):\n",
    "        for recording in os.listdir(path_to_data + f'{cls}/'):\n",
    "            data = pd.read_csv(path_to_data + f'{cls}/' + recording)\n",
    "            data = data.iloc[:min_length]\n",
    "            data_to_cat = []\n",
    "            for channel in data.columns[1:]:\n",
    "                freq, time, values = spectrogram(data[channel], Fs)\n",
    "                idx = np.where((freq > 1) & (freq < 50))[0]\n",
    "                freq = freq[idx]\n",
    "                #pad to 24;96\n",
    "                values = values[idx[1:], :]\n",
    "                values = 20 * np.log10(values)\n",
    "                pad = np.zeros((values.shape[0], 1))\n",
    "#                 values = normalise_spect(values)\n",
    "                values = np.hstack((values, pad))\n",
    "                data_to_cat.append(torch.from_numpy(np.flip(values, axis = (0)).copy()).unsqueeze_(0))\n",
    "            tensor_with_all_channels = torch.cat(data_to_cat, dim = 0)\n",
    "            if not os.path.isdir(path_to_save + f'{cls}'):\n",
    "                os.mkdir(path_to_save + f'{cls}')\n",
    "            torch.save(tensor_with_all_channels, \n",
    "                       path_to_save + f'{cls}/' + f'{recording[:-4]}.pt')"
   ]
  },
  {
   "cell_type": "code",
   "execution_count": 7,
   "id": "3e63aa01",
   "metadata": {
    "scrolled": true
   },
   "outputs": [],
   "source": [
    "# get_np_from_edf(PATH, filter_params, PATH_TO_SAVE)\n",
    "# get_spectrogram(PATH_TO_SAVE, PATH_TO_SAVE_TENSORS, Fs)"
   ]
  },
  {
   "cell_type": "code",
   "execution_count": 8,
   "id": "87e68e97",
   "metadata": {},
   "outputs": [],
   "source": [
    "# test = torch.load('eeg_data_spec_tensors/Health/S1001.pt')\n",
    "# mne_test = mne.io.read_raw_edf('eeg_data/Health/S232.edf').to_data_frame()\n",
    "# a = mne_test['EEG FP1-R'].to_numpy()\n",
    "# freq, time, values = spectrogram(a, Fs)\n",
    "# idx = np.where((freq > 1) & (freq < 50))[0]\n",
    "# freq = freq[idx]\n",
    "# values = values[idx[1:], :]\n",
    "# values = 20 * np.log10(values)\n",
    "# pad = np.zeros((values.shape[0], 1))\n",
    "# print(values.shape)\n",
    "# values = normalise_spect(values)\n",
    "# values = np.hstack((values, pad))"
   ]
  },
  {
   "cell_type": "markdown",
   "id": "66ea5fe0",
   "metadata": {},
   "source": [
    "# Model for approach 1"
   ]
  },
  {
   "cell_type": "code",
   "execution_count": 9,
   "id": "a63aca31",
   "metadata": {
    "scrolled": true
   },
   "outputs": [],
   "source": [
    "class EncoderBlock(nn.Module):\n",
    "    def __init__(self, channels_in, channels_out):\n",
    "        super(EncoderBlock, self).__init__()\n",
    "        self.layer = nn.Sequential(\n",
    "            nn.Conv2d(in_channels = channels_in, \n",
    "                      out_channels = channels_out, \n",
    "                      stride = 1, \n",
    "                      padding = 1, \n",
    "                      kernel_size = 3),\n",
    "            nn.ReLU(),\n",
    "            nn.BatchNorm2d(num_features = channels_out))\n",
    "#             nn.InstanceNorm2d(num_features = channels_out))\n",
    "        self.dropout = nn.Dropout(0.25)\n",
    "        self.avgpool = nn.MaxPool2d(kernel_size = 2, padding = 0, stride = 2)\n",
    "    def forward(self, inputs):\n",
    "#         print(inputs.shape)\n",
    "        out = self.layer(inputs)\n",
    "        out = self.dropout(out)\n",
    "        out = self.avgpool(out)\n",
    "        return out"
   ]
  },
  {
   "cell_type": "code",
   "execution_count": 10,
   "id": "682d425a",
   "metadata": {},
   "outputs": [],
   "source": [
    "class DecoderBlock(nn.Module):\n",
    "    def __init__(self, channels_in, channels_out):\n",
    "        super(DecoderBlock, self).__init__()\n",
    "        self.upsample = nn.ConvTranspose2d(in_channels = channels_in,\n",
    "                                            out_channels = channels_in,\n",
    "                                            kernel_size = 3,\n",
    "                                            stride = 2,\n",
    "                                            padding = 1,\n",
    "                                            output_padding = 1)\n",
    "        self.layer = nn.Sequential(\n",
    "            nn.ReLU(),\n",
    "            nn.Conv2d(in_channels = channels_in, \n",
    "                          out_channels = channels_out, \n",
    "                          stride = 1, \n",
    "                          padding = 1, \n",
    "                          kernel_size = 3),\n",
    "            nn.BatchNorm2d(num_features = channels_out))\n",
    "#             nn.InstanceNorm2d(num_features = channels_out))\n",
    "        self.dropout = nn.Dropout(0.25)\n",
    "    def forward(self, inputs):\n",
    "#         print(inputs.shape)\n",
    "        out = self.upsample(inputs)\n",
    "#         print(out.shape)\n",
    "        out = self.layer(out)\n",
    "        out = self.dropout(out)\n",
    "        return out"
   ]
  },
  {
   "cell_type": "code",
   "execution_count": 16,
   "id": "aad7ed86",
   "metadata": {},
   "outputs": [],
   "source": [
    "class ConvAE(nn.Module):\n",
    "    def __init__(self, num_enc_blocks = 1, input_channels = 21):\n",
    "        super(ConvAE, self).__init__()\n",
    "        self.encoder_block = nn.ModuleList()\n",
    "        self.decoder_block = nn.ModuleList()\n",
    "        channels_in_encoder = []\n",
    "        channels_out_encoder = []\n",
    "        channels_in_decoder = []\n",
    "        channels_out_decoder = []\n",
    "        for i in range(num_enc_blocks):\n",
    "            channels_in_encoder.append(2 ** i * input_channels)\n",
    "            channels_out_encoder.append(2 ** (i + 1) *  input_channels)\n",
    "        channels_in_decoder = channels_out_encoder[::-1]\n",
    "        channels_out_decoder = channels_in_encoder[::-1]\n",
    "        for i in range(num_enc_blocks):\n",
    "            self.encoder_block.append(EncoderBlock(channels_in_encoder[i],\n",
    "                                                   channels_out_encoder[i]))\n",
    "            self.decoder_block.append(DecoderBlock(channels_in_decoder[i],\n",
    "                                                   channels_out_decoder[i]))\n",
    "        self.max_pool_spatial = nn.MaxPool2d(kernel_size = 2, padding = 0, stride = 2)\n",
    "        self.tanh = nn.Tanh()\n",
    "    def forward(self, inputs):\n",
    "        x = inputs\n",
    "        for block in self.encoder_block:\n",
    "            x = block(x)\n",
    "        # somehow get x from this and do what I want\n",
    "        lattent_space = x.clone().detach()\n",
    "        batch_size = lattent_space.shape[0]\n",
    "        lattent_space = self.max_pool_spatial(lattent_space)\n",
    "        lattent_space_mean = torch.mean(lattent_space, dim = 1)\n",
    "        lattent_space_max = torch.max(lattent_space, dim = 1)[0]\n",
    "        lattent_space_mean = torch.flatten(lattent_space_mean)\n",
    "        lattent_space_mean = lattent_space_mean.reshape(batch_size, -1)\n",
    "        lattent_space_max = torch.flatten(lattent_space_max)\n",
    "        lattent_space_max = lattent_space_max.reshape(batch_size, -1)\n",
    "#         print(lattent_space_max.shape)\n",
    "#         print(lattent_space_mean.shape)\n",
    "        vectorized_lattent_space = torch.cat([lattent_space_mean, lattent_space_max], dim = 1)\n",
    "        \n",
    "        for block in self.decoder_block:\n",
    "            x = block(x)\n",
    "        x = self.tanh(x)\n",
    "        return x, vectorized_lattent_space"
   ]
  },
  {
   "cell_type": "markdown",
   "id": "86890380",
   "metadata": {},
   "source": [
    "## Dataset"
   ]
  },
  {
   "cell_type": "code",
   "execution_count": 17,
   "id": "1053d57e",
   "metadata": {},
   "outputs": [],
   "source": [
    "class EegSpec(Dataset):\n",
    "    def __init__(self,\n",
    "                 phase: str,\n",
    "                 data_path: str = 'data'):\n",
    "        files = os.listdir(f'{data_path}/{phase}')\n",
    "        self.images = []\n",
    "        for f in files:\n",
    "            self.images.append(torch.load(f'{data_path}/' + f'{phase}/' + f))\n",
    "                         \n",
    "    def __len__(self):\n",
    "        return len(self.images)\n",
    "    \n",
    "    def __getitem__(self, idx):\n",
    "        return self.images[idx]"
   ]
  },
  {
   "cell_type": "code",
   "execution_count": 18,
   "id": "cb2e39b9",
   "metadata": {},
   "outputs": [],
   "source": [
    "BATCH = 8\n",
    "epoches = 100\n",
    "train_data = EegSpec(phase = 'train')\n",
    "validate_data = EegSpec(phase = 'validate')\n",
    "train_dataloader = DataLoader(train_data, batch_size = BATCH, \n",
    "                              shuffle = True, num_workers = 4) \n",
    "validation_dataloader = DataLoader(validate_data, batch_size = 10, \n",
    "                                   shuffle = False, num_workers = 4)"
   ]
  },
  {
   "cell_type": "code",
   "execution_count": 24,
   "id": "650c70b0",
   "metadata": {},
   "outputs": [],
   "source": [
    "model = ConvAE().to(device)\n",
    "optimizer = torch.optim.Adam(model.parameters(), lr = 1e-3)\n",
    "criterion = nn.L1Loss()"
   ]
  },
  {
   "cell_type": "code",
   "execution_count": 25,
   "id": "91278e43",
   "metadata": {},
   "outputs": [],
   "source": [
    "test_tensor = torch.randn(BATCH, 21, 24, 96).to(device)"
   ]
  },
  {
   "cell_type": "code",
   "execution_count": 26,
   "id": "697519d6",
   "metadata": {},
   "outputs": [],
   "source": [
    "t = model(test_tensor)"
   ]
  },
  {
   "cell_type": "code",
   "execution_count": 29,
   "id": "8c45fcff",
   "metadata": {},
   "outputs": [
    {
     "data": {
      "text/plain": [
       "tensor(1.0000, device='cuda:0', grad_fn=<MaxBackward1>)"
      ]
     },
     "execution_count": 29,
     "metadata": {},
     "output_type": "execute_result"
    }
   ],
   "source": [
    "t[0].max()"
   ]
  },
  {
   "cell_type": "code",
   "execution_count": 21,
   "id": "cb4ed356",
   "metadata": {},
   "outputs": [],
   "source": [
    "# def normalise_tensor(tensor):\n",
    "#     for channel in range(tensor.shape[-3]):\n",
    "#         min_v = torch.min(tensor[channel])\n",
    "#         max_v = torch.max(tensor[channel])\n",
    "#         tensor[channel] = 255 * (tensor[channel] - min_v) / (max_v - min_v)\n",
    "#         tensor[channel] = tensor[channel].to(torch.int)\n",
    "#     return tensor"
   ]
  },
  {
   "cell_type": "code",
   "execution_count": 30,
   "id": "492f4426",
   "metadata": {},
   "outputs": [],
   "source": [
    "n = np.array([[1, 2, 3], [4, 5, 6], [7, 8, 9]])"
   ]
  },
  {
   "cell_type": "code",
   "execution_count": 31,
   "id": "bc01a5ee",
   "metadata": {},
   "outputs": [],
   "source": [
    "tt =torch.from_numpy(n)"
   ]
  },
  {
   "cell_type": "code",
   "execution_count": 32,
   "id": "a67908c8",
   "metadata": {},
   "outputs": [
    {
     "data": {
      "text/plain": [
       "array([[1, 2, 3],\n",
       "       [4, 5, 6],\n",
       "       [7, 8, 9]])"
      ]
     },
     "execution_count": 32,
     "metadata": {},
     "output_type": "execute_result"
    }
   ],
   "source": [
    "n"
   ]
  },
  {
   "cell_type": "code",
   "execution_count": 33,
   "id": "4a9d24c2",
   "metadata": {},
   "outputs": [
    {
     "data": {
      "text/plain": [
       "tensor([[1, 2, 3],\n",
       "        [4, 5, 6],\n",
       "        [7, 8, 9]])"
      ]
     },
     "execution_count": 33,
     "metadata": {},
     "output_type": "execute_result"
    }
   ],
   "source": [
    "tt"
   ]
  },
  {
   "cell_type": "markdown",
   "id": "573fca0d",
   "metadata": {},
   "source": [
    "## Training"
   ]
  },
  {
   "cell_type": "code",
   "execution_count": 22,
   "id": "56af3919",
   "metadata": {},
   "outputs": [],
   "source": [
    "def train(model, epoches, train_dataloader, validation_dataloader, device, criterion):\n",
    "    model = model.to(device)\n",
    "    for epoch in range(epoches):\n",
    "        train_loss = 0\n",
    "        for data in train_dataloader:\n",
    "            img = data.to(device, dtype = torch.float)\n",
    "            output = model(img)[0]\n",
    "            loss = criterion(output, img)\n",
    "            optimizer.zero_grad()\n",
    "            loss.backward()\n",
    "            optimizer.step()\n",
    "#             print(train_loss.item())\n",
    "            train_loss += loss.item()\n",
    "        train_loss = train_loss / len(train_dataloader)\n",
    "\n",
    "        model.eval() \n",
    "        val_loss = 0\n",
    "        with torch.no_grad():\n",
    "            for img in validation_dataloader:\n",
    "                img = data.to(device, dtype = torch.float)\n",
    "                output = model(img)[0]\n",
    "                val_loss = criterion(output, img)\n",
    "                val_loss += val_loss.item()\n",
    "            val_loss = val_loss / len(validation_dataloader)\n",
    "        print(f'epoch {epoch}/{epoches}\\n train loss: {train_loss}\\n validation_loss {val_loss}')"
   ]
  },
  {
   "cell_type": "code",
   "execution_count": 23,
   "id": "1f821437",
   "metadata": {
    "scrolled": true
   },
   "outputs": [
    {
     "name": "stdout",
     "output_type": "stream",
     "text": [
      "epoch 0/100\n",
      " train loss: nan\n",
      " validation_loss nan\n",
      "epoch 1/100\n",
      " train loss: nan\n",
      " validation_loss nan\n",
      "epoch 2/100\n",
      " train loss: nan\n",
      " validation_loss nan\n",
      "epoch 3/100\n",
      " train loss: nan\n",
      " validation_loss nan\n",
      "epoch 4/100\n",
      " train loss: nan\n",
      " validation_loss nan\n",
      "epoch 5/100\n",
      " train loss: nan\n",
      " validation_loss nan\n",
      "epoch 6/100\n",
      " train loss: nan\n",
      " validation_loss nan\n",
      "epoch 7/100\n",
      " train loss: nan\n",
      " validation_loss nan\n",
      "epoch 8/100\n",
      " train loss: nan\n",
      " validation_loss nan\n",
      "epoch 9/100\n",
      " train loss: nan\n",
      " validation_loss nan\n",
      "epoch 10/100\n",
      " train loss: nan\n",
      " validation_loss nan\n"
     ]
    },
    {
     "ename": "KeyboardInterrupt",
     "evalue": "",
     "output_type": "error",
     "traceback": [
      "\u001b[0;31m---------------------------------------------------------------------------\u001b[0m",
      "\u001b[0;31mKeyboardInterrupt\u001b[0m                         Traceback (most recent call last)",
      "Input \u001b[0;32mIn [23]\u001b[0m, in \u001b[0;36m<cell line: 1>\u001b[0;34m()\u001b[0m\n\u001b[0;32m----> 1\u001b[0m \u001b[43mtrain\u001b[49m\u001b[43m(\u001b[49m\u001b[43mmodel\u001b[49m\u001b[43m,\u001b[49m\u001b[43m \u001b[49m\u001b[38;5;241;43m100\u001b[39;49m\u001b[43m,\u001b[49m\u001b[43m \u001b[49m\u001b[43mtrain_dataloader\u001b[49m\u001b[43m,\u001b[49m\u001b[43m \u001b[49m\u001b[43mvalidation_dataloader\u001b[49m\u001b[43m,\u001b[49m\u001b[43m \u001b[49m\u001b[43mdevice\u001b[49m\u001b[43m,\u001b[49m\u001b[43m \u001b[49m\u001b[43mcriterion\u001b[49m\u001b[43m)\u001b[49m\n",
      "Input \u001b[0;32mIn [22]\u001b[0m, in \u001b[0;36mtrain\u001b[0;34m(model, epoches, train_dataloader, validation_dataloader, device, criterion)\u001b[0m\n\u001b[1;32m      5\u001b[0m \u001b[38;5;28;01mfor\u001b[39;00m data \u001b[38;5;129;01min\u001b[39;00m train_dataloader:\n\u001b[1;32m      6\u001b[0m     img \u001b[38;5;241m=\u001b[39m data\u001b[38;5;241m.\u001b[39mto(device, dtype \u001b[38;5;241m=\u001b[39m torch\u001b[38;5;241m.\u001b[39mfloat)\n\u001b[0;32m----> 7\u001b[0m     output \u001b[38;5;241m=\u001b[39m \u001b[43mmodel\u001b[49m\u001b[43m(\u001b[49m\u001b[43mimg\u001b[49m\u001b[43m)\u001b[49m[\u001b[38;5;241m0\u001b[39m]\n\u001b[1;32m      8\u001b[0m     loss \u001b[38;5;241m=\u001b[39m criterion(output, img)\n\u001b[1;32m      9\u001b[0m     optimizer\u001b[38;5;241m.\u001b[39mzero_grad()\n",
      "File \u001b[0;32m/opt/conda/lib/python3.9/site-packages/torch/nn/modules/module.py:1110\u001b[0m, in \u001b[0;36mModule._call_impl\u001b[0;34m(self, *input, **kwargs)\u001b[0m\n\u001b[1;32m   1106\u001b[0m \u001b[38;5;66;03m# If we don't have any hooks, we want to skip the rest of the logic in\u001b[39;00m\n\u001b[1;32m   1107\u001b[0m \u001b[38;5;66;03m# this function, and just call forward.\u001b[39;00m\n\u001b[1;32m   1108\u001b[0m \u001b[38;5;28;01mif\u001b[39;00m \u001b[38;5;129;01mnot\u001b[39;00m (\u001b[38;5;28mself\u001b[39m\u001b[38;5;241m.\u001b[39m_backward_hooks \u001b[38;5;129;01mor\u001b[39;00m \u001b[38;5;28mself\u001b[39m\u001b[38;5;241m.\u001b[39m_forward_hooks \u001b[38;5;129;01mor\u001b[39;00m \u001b[38;5;28mself\u001b[39m\u001b[38;5;241m.\u001b[39m_forward_pre_hooks \u001b[38;5;129;01mor\u001b[39;00m _global_backward_hooks\n\u001b[1;32m   1109\u001b[0m         \u001b[38;5;129;01mor\u001b[39;00m _global_forward_hooks \u001b[38;5;129;01mor\u001b[39;00m _global_forward_pre_hooks):\n\u001b[0;32m-> 1110\u001b[0m     \u001b[38;5;28;01mreturn\u001b[39;00m \u001b[43mforward_call\u001b[49m\u001b[43m(\u001b[49m\u001b[38;5;241;43m*\u001b[39;49m\u001b[38;5;28;43minput\u001b[39;49m\u001b[43m,\u001b[49m\u001b[43m \u001b[49m\u001b[38;5;241;43m*\u001b[39;49m\u001b[38;5;241;43m*\u001b[39;49m\u001b[43mkwargs\u001b[49m\u001b[43m)\u001b[49m\n\u001b[1;32m   1111\u001b[0m \u001b[38;5;66;03m# Do not call functions when jit is used\u001b[39;00m\n\u001b[1;32m   1112\u001b[0m full_backward_hooks, non_full_backward_hooks \u001b[38;5;241m=\u001b[39m [], []\n",
      "Input \u001b[0;32mIn [16]\u001b[0m, in \u001b[0;36mConvAE.forward\u001b[0;34m(self, inputs)\u001b[0m\n\u001b[1;32m     26\u001b[0m \u001b[38;5;66;03m# somehow get x from this and do what I want\u001b[39;00m\n\u001b[1;32m     27\u001b[0m lattent_space \u001b[38;5;241m=\u001b[39m x\u001b[38;5;241m.\u001b[39mclone()\u001b[38;5;241m.\u001b[39mdetach()\n\u001b[0;32m---> 28\u001b[0m batch_size \u001b[38;5;241m=\u001b[39m \u001b[43mlattent_space\u001b[49m\u001b[38;5;241;43m.\u001b[39;49m\u001b[43mshape\u001b[49m[\u001b[38;5;241m0\u001b[39m]\n\u001b[1;32m     29\u001b[0m lattent_space \u001b[38;5;241m=\u001b[39m \u001b[38;5;28mself\u001b[39m\u001b[38;5;241m.\u001b[39mmax_pool_spatial(lattent_space)\n\u001b[1;32m     30\u001b[0m lattent_space_mean \u001b[38;5;241m=\u001b[39m torch\u001b[38;5;241m.\u001b[39mmean(lattent_space, dim \u001b[38;5;241m=\u001b[39m \u001b[38;5;241m1\u001b[39m)\n",
      "\u001b[0;31mKeyboardInterrupt\u001b[0m: "
     ]
    }
   ],
   "source": [
    "train(model, 100, train_dataloader, validation_dataloader, device, criterion)"
   ]
  },
  {
   "cell_type": "code",
   "execution_count": null,
   "id": "9d6ae594",
   "metadata": {},
   "outputs": [],
   "source": []
  },
  {
   "cell_type": "code",
   "execution_count": 77,
   "id": "9e95c359",
   "metadata": {},
   "outputs": [],
   "source": [
    "test_img = torch.load('data/train/F117.pt').to(device, dtype = torch.float)"
   ]
  },
  {
   "cell_type": "code",
   "execution_count": 78,
   "id": "ffd63334",
   "metadata": {
    "scrolled": true
   },
   "outputs": [
    {
     "data": {
      "text/plain": [
       "array([[-8.93113937e+01, -9.52984314e+01, -8.71266251e+01, ...,\n",
       "        -9.58179703e+01, -1.10192940e+02,  0.00000000e+00],\n",
       "       [-1.08356728e+02, -9.39901657e+01, -8.06325531e+01, ...,\n",
       "        -8.63366013e+01, -1.02290565e+02,  0.00000000e+00],\n",
       "       [-8.27456970e+01, -9.39482269e+01, -7.83746872e+01, ...,\n",
       "        -8.14996643e+01, -8.20751648e+01,  0.00000000e+00],\n",
       "       ...,\n",
       "       [ 4.03068008e+01, -1.48258913e+00,  1.43637991e+01, ...,\n",
       "         4.91469316e-02,  3.54411340e+00,  0.00000000e+00],\n",
       "       [ 5.02587852e+01, -1.20453119e+00, -9.37911749e-01, ...,\n",
       "         6.11813021e+00, -2.02806664e+00,  0.00000000e+00],\n",
       "       [ 4.84067764e+01,  1.15274296e+01,  8.94883251e+00, ...,\n",
       "         1.95311964e+00,  6.13993311e+00,  0.00000000e+00]], dtype=float32)"
      ]
     },
     "execution_count": 78,
     "metadata": {},
     "output_type": "execute_result"
    }
   ],
   "source": [
    "test_img[0].cpu().detach().numpy()"
   ]
  },
  {
   "cell_type": "code",
   "execution_count": 79,
   "id": "805ba1d3",
   "metadata": {},
   "outputs": [],
   "source": [
    "l = nn.MSELoss()"
   ]
  },
  {
   "cell_type": "code",
   "execution_count": 80,
   "id": "c503eeba",
   "metadata": {},
   "outputs": [
    {
     "data": {
      "text/plain": [
       "tensor(2376.5715, device='cuda:0', grad_fn=<MseLossBackward0>)"
      ]
     },
     "execution_count": 80,
     "metadata": {},
     "output_type": "execute_result"
    }
   ],
   "source": [
    "l(test_img, out[0])"
   ]
  },
  {
   "cell_type": "code",
   "execution_count": 81,
   "id": "4ccdd725",
   "metadata": {
    "scrolled": true
   },
   "outputs": [
    {
     "data": {
      "text/plain": [
       "<matplotlib.image.AxesImage at 0x7fb6a7922ac0>"
      ]
     },
     "execution_count": 81,
     "metadata": {},
     "output_type": "execute_result"
    },
    {
     "data": {
      "image/png": "[encoded data removed]",
      "text/plain": [
       "<Figure size 432x288 with 1 Axes>"
      ]
     },
     "metadata": {
      "needs_background": "light"
     },
     "output_type": "display_data"
    }
   ],
   "source": [
    "plt.imshow(test_img[0].cpu().detach().numpy())"
   ]
  },
  {
   "cell_type": "code",
   "execution_count": 82,
   "id": "26d4bb49",
   "metadata": {},
   "outputs": [
    {
     "data": {
      "text/plain": [
       "<matplotlib.image.AxesImage at 0x7fb6972e3790>"
      ]
     },
     "execution_count": 82,
     "metadata": {},
     "output_type": "execute_result"
    },
    {
     "data": {
      "image/png": "[encoded data removed]",
      "text/plain": [
       "<Figure size 432x288 with 1 Axes>"
      ]
     },
     "metadata": {
      "needs_background": "light"
     },
     "output_type": "display_data"
    }
   ],
   "source": [
    "plt.imshow(out[0][0].cpu().detach().numpy())"
   ]
  },
  {
   "cell_type": "code",
   "execution_count": 45,
   "id": "2f16c84d",
   "metadata": {},
   "outputs": [
    {
     "data": {
      "text/plain": [
       "tensor([[[ 0.0000e+00, -1.0610e+00, -6.5021e-01,  ..., -1.6554e+00,\n",
       "           0.0000e+00, -9.2072e-01],\n",
       "         [ 0.0000e+00, -1.0904e+00,  1.4517e-01,  ..., -2.5557e+00,\n",
       "           1.0986e-01,  0.0000e+00],\n",
       "         [-6.1692e-01,  0.0000e+00, -1.6940e+00,  ..., -1.3609e+00,\n",
       "          -1.1498e-01, -1.2353e+00],\n",
       "         ...,\n",
       "         [ 0.0000e+00,  0.0000e+00,  0.0000e+00,  ...,  1.1066e+00,\n",
       "          -4.8195e-01, -1.3187e+00],\n",
       "         [ 9.7923e-01,  0.0000e+00,  2.0117e+00,  ...,  5.9333e-01,\n",
       "           0.0000e+00, -4.7736e-01],\n",
       "         [ 0.0000e+00, -2.1497e-01,  0.0000e+00,  ..., -8.7041e-01,\n",
       "          -1.6052e+00, -9.1026e-01]],\n",
       "\n",
       "        [[-3.1829e-01,  4.6454e-01,  7.0107e-01,  ..., -5.9756e-01,\n",
       "           4.2950e-01, -1.3584e-01],\n",
       "         [-1.4911e+00,  2.9224e-01, -2.2485e-01,  ..., -7.1799e-01,\n",
       "          -9.2773e-01,  5.9316e-01],\n",
       "         [ 0.0000e+00,  0.0000e+00, -2.6911e-01,  ...,  1.9789e+00,\n",
       "          -1.9354e+00, -9.8757e-01],\n",
       "         ...,\n",
       "         [ 8.1543e-02, -1.6468e-01,  7.9362e-01,  ..., -9.2823e-01,\n",
       "          -1.3461e-01, -4.5295e-01],\n",
       "         [ 9.6524e-01,  0.0000e+00,  0.0000e+00,  ...,  7.0368e-01,\n",
       "           7.4984e-01,  7.4898e-01],\n",
       "         [-1.2998e-01, -3.6476e-01, -7.0689e-01,  ..., -9.0795e-01,\n",
       "          -1.3045e+00, -1.3987e-01]],\n",
       "\n",
       "        [[ 0.0000e+00, -5.6480e-01, -2.7465e+00,  ...,  0.0000e+00,\n",
       "          -6.0446e-01, -1.0399e+00],\n",
       "         [ 8.0220e-03,  0.0000e+00,  1.2247e+00,  ..., -6.7417e-01,\n",
       "           0.0000e+00, -7.6123e-01],\n",
       "         [-3.6437e-01, -2.8120e-01,  2.8505e+00,  ...,  1.8409e+00,\n",
       "           0.0000e+00, -1.2855e+00],\n",
       "         ...,\n",
       "         [ 2.2259e-01,  9.7597e-01,  8.4050e-01,  ...,  0.0000e+00,\n",
       "          -1.2024e+00,  0.0000e+00],\n",
       "         [ 0.0000e+00, -2.2770e+00,  0.0000e+00,  ..., -9.4287e-01,\n",
       "           0.0000e+00, -5.0256e-01],\n",
       "         [ 0.0000e+00, -2.2918e+00, -1.2651e+00,  ..., -8.1861e-01,\n",
       "          -8.2864e-01, -1.0257e+00]],\n",
       "\n",
       "        ...,\n",
       "\n",
       "        [[ 0.0000e+00,  0.0000e+00,  2.0570e+00,  ..., -2.8811e-01,\n",
       "          -1.8086e-03,  2.8629e-01],\n",
       "         [ 0.0000e+00,  2.5874e-01, -1.6919e-01,  ...,  0.0000e+00,\n",
       "           9.6049e-01, -3.6649e-01],\n",
       "         [ 7.3714e-01, -2.3177e+00,  0.0000e+00,  ...,  3.1507e-01,\n",
       "          -1.2910e+00, -3.6023e-01],\n",
       "         ...,\n",
       "         [ 0.0000e+00,  3.0098e+00, -1.5785e+00,  ..., -2.3216e-01,\n",
       "           0.0000e+00, -1.3521e-01],\n",
       "         [ 0.0000e+00,  0.0000e+00, -2.4099e+00,  ..., -1.2223e+00,\n",
       "          -8.3550e-01, -1.6659e+00],\n",
       "         [ 0.0000e+00, -7.0883e-01,  7.4155e-01,  ...,  3.8108e-01,\n",
       "           1.5613e-01,  0.0000e+00]],\n",
       "\n",
       "        [[ 6.6814e-01,  1.9833e+00,  9.1085e-01,  ...,  9.9779e-01,\n",
       "           0.0000e+00,  4.8945e-01],\n",
       "         [ 1.1750e+00,  2.3042e+00,  3.4761e-01,  ...,  2.4893e+00,\n",
       "           3.4336e-01,  0.0000e+00],\n",
       "         [ 0.0000e+00,  0.0000e+00, -1.8155e+00,  ...,  2.7797e+00,\n",
       "          -1.2526e-01,  0.0000e+00],\n",
       "         ...,\n",
       "         [ 0.0000e+00,  4.3486e-01,  0.0000e+00,  ...,  0.0000e+00,\n",
       "           2.9471e-02, -8.7179e-03],\n",
       "         [ 6.1522e-01, -2.2443e+00,  1.7062e+00,  ...,  1.4680e+00,\n",
       "           1.8448e+00,  1.2363e-01],\n",
       "         [ 1.1710e+00,  1.7218e+00,  1.9435e+00,  ...,  9.1363e-01,\n",
       "           0.0000e+00,  1.4051e+00]],\n",
       "\n",
       "        [[-1.6940e+00,  0.0000e+00, -1.4498e-01,  ...,  5.0449e-02,\n",
       "           1.3382e+00, -7.6266e-01],\n",
       "         [ 2.0015e-01, -1.9869e-01,  1.3201e-02,  ...,  0.0000e+00,\n",
       "           0.0000e+00,  0.0000e+00],\n",
       "         [ 1.6278e+00,  9.0984e-02,  0.0000e+00,  ...,  0.0000e+00,\n",
       "           4.0089e-01, -3.1305e-01],\n",
       "         ...,\n",
       "         [ 0.0000e+00, -2.4689e+00, -1.1532e-01,  ..., -1.7379e+00,\n",
       "          -1.5556e+00,  0.0000e+00],\n",
       "         [-9.3437e-01,  0.0000e+00,  1.5627e+00,  ...,  0.0000e+00,\n",
       "          -4.9296e-01,  0.0000e+00],\n",
       "         [-1.5758e+00,  0.0000e+00, -2.7763e+00,  ..., -1.0525e+00,\n",
       "          -1.4460e-01, -7.0349e-01]]], device='cuda:0',\n",
       "       grad_fn=<NativeDropoutBackward0>)"
      ]
     },
     "execution_count": 45,
     "metadata": {},
     "output_type": "execute_result"
    }
   ],
   "source": [
    "out[0]"
   ]
  },
  {
   "cell_type": "code",
   "execution_count": 42,
   "id": "af9419ee",
   "metadata": {},
   "outputs": [],
   "source": [
    "out = model(test_img)"
   ]
  },
  {
   "cell_type": "code",
   "execution_count": 43,
   "id": "9d9e0de9",
   "metadata": {
    "scrolled": true
   },
   "outputs": [
    {
     "data": {
      "text/plain": [
       "tensor([[[ 0.0000e+00, -1.0610e+00, -6.5021e-01,  ..., -1.6554e+00,\n",
       "           0.0000e+00, -9.2072e-01],\n",
       "         [ 0.0000e+00, -1.0904e+00,  1.4517e-01,  ..., -2.5557e+00,\n",
       "           1.0986e-01,  0.0000e+00],\n",
       "         [-6.1692e-01,  0.0000e+00, -1.6940e+00,  ..., -1.3609e+00,\n",
       "          -1.1498e-01, -1.2353e+00],\n",
       "         ...,\n",
       "         [ 0.0000e+00,  0.0000e+00,  0.0000e+00,  ...,  1.1066e+00,\n",
       "          -4.8195e-01, -1.3187e+00],\n",
       "         [ 9.7923e-01,  0.0000e+00,  2.0117e+00,  ...,  5.9333e-01,\n",
       "           0.0000e+00, -4.7736e-01],\n",
       "         [ 0.0000e+00, -2.1497e-01,  0.0000e+00,  ..., -8.7041e-01,\n",
       "          -1.6052e+00, -9.1026e-01]],\n",
       "\n",
       "        [[-3.1829e-01,  4.6454e-01,  7.0107e-01,  ..., -5.9756e-01,\n",
       "           4.2950e-01, -1.3584e-01],\n",
       "         [-1.4911e+00,  2.9224e-01, -2.2485e-01,  ..., -7.1799e-01,\n",
       "          -9.2773e-01,  5.9316e-01],\n",
       "         [ 0.0000e+00,  0.0000e+00, -2.6911e-01,  ...,  1.9789e+00,\n",
       "          -1.9354e+00, -9.8757e-01],\n",
       "         ...,\n",
       "         [ 8.1543e-02, -1.6468e-01,  7.9362e-01,  ..., -9.2823e-01,\n",
       "          -1.3461e-01, -4.5295e-01],\n",
       "         [ 9.6524e-01,  0.0000e+00,  0.0000e+00,  ...,  7.0368e-01,\n",
       "           7.4984e-01,  7.4898e-01],\n",
       "         [-1.2998e-01, -3.6476e-01, -7.0689e-01,  ..., -9.0795e-01,\n",
       "          -1.3045e+00, -1.3987e-01]],\n",
       "\n",
       "        [[ 0.0000e+00, -5.6480e-01, -2.7465e+00,  ...,  0.0000e+00,\n",
       "          -6.0446e-01, -1.0399e+00],\n",
       "         [ 8.0220e-03,  0.0000e+00,  1.2247e+00,  ..., -6.7417e-01,\n",
       "           0.0000e+00, -7.6123e-01],\n",
       "         [-3.6437e-01, -2.8120e-01,  2.8505e+00,  ...,  1.8409e+00,\n",
       "           0.0000e+00, -1.2855e+00],\n",
       "         ...,\n",
       "         [ 2.2259e-01,  9.7597e-01,  8.4050e-01,  ...,  0.0000e+00,\n",
       "          -1.2024e+00,  0.0000e+00],\n",
       "         [ 0.0000e+00, -2.2770e+00,  0.0000e+00,  ..., -9.4287e-01,\n",
       "           0.0000e+00, -5.0256e-01],\n",
       "         [ 0.0000e+00, -2.2918e+00, -1.2651e+00,  ..., -8.1861e-01,\n",
       "          -8.2864e-01, -1.0257e+00]],\n",
       "\n",
       "        ...,\n",
       "\n",
       "        [[ 0.0000e+00,  0.0000e+00,  2.0570e+00,  ..., -2.8811e-01,\n",
       "          -1.8086e-03,  2.8629e-01],\n",
       "         [ 0.0000e+00,  2.5874e-01, -1.6919e-01,  ...,  0.0000e+00,\n",
       "           9.6049e-01, -3.6649e-01],\n",
       "         [ 7.3714e-01, -2.3177e+00,  0.0000e+00,  ...,  3.1507e-01,\n",
       "          -1.2910e+00, -3.6023e-01],\n",
       "         ...,\n",
       "         [ 0.0000e+00,  3.0098e+00, -1.5785e+00,  ..., -2.3216e-01,\n",
       "           0.0000e+00, -1.3521e-01],\n",
       "         [ 0.0000e+00,  0.0000e+00, -2.4099e+00,  ..., -1.2223e+00,\n",
       "          -8.3550e-01, -1.6659e+00],\n",
       "         [ 0.0000e+00, -7.0883e-01,  7.4155e-01,  ...,  3.8108e-01,\n",
       "           1.5613e-01,  0.0000e+00]],\n",
       "\n",
       "        [[ 6.6814e-01,  1.9833e+00,  9.1085e-01,  ...,  9.9779e-01,\n",
       "           0.0000e+00,  4.8945e-01],\n",
       "         [ 1.1750e+00,  2.3042e+00,  3.4761e-01,  ...,  2.4893e+00,\n",
       "           3.4336e-01,  0.0000e+00],\n",
       "         [ 0.0000e+00,  0.0000e+00, -1.8155e+00,  ...,  2.7797e+00,\n",
       "          -1.2526e-01,  0.0000e+00],\n",
       "         ...,\n",
       "         [ 0.0000e+00,  4.3486e-01,  0.0000e+00,  ...,  0.0000e+00,\n",
       "           2.9471e-02, -8.7179e-03],\n",
       "         [ 6.1522e-01, -2.2443e+00,  1.7062e+00,  ...,  1.4680e+00,\n",
       "           1.8448e+00,  1.2363e-01],\n",
       "         [ 1.1710e+00,  1.7218e+00,  1.9435e+00,  ...,  9.1363e-01,\n",
       "           0.0000e+00,  1.4051e+00]],\n",
       "\n",
       "        [[-1.6940e+00,  0.0000e+00, -1.4498e-01,  ...,  5.0449e-02,\n",
       "           1.3382e+00, -7.6266e-01],\n",
       "         [ 2.0015e-01, -1.9869e-01,  1.3201e-02,  ...,  0.0000e+00,\n",
       "           0.0000e+00,  0.0000e+00],\n",
       "         [ 1.6278e+00,  9.0984e-02,  0.0000e+00,  ...,  0.0000e+00,\n",
       "           4.0089e-01, -3.1305e-01],\n",
       "         ...,\n",
       "         [ 0.0000e+00, -2.4689e+00, -1.1532e-01,  ..., -1.7379e+00,\n",
       "          -1.5556e+00,  0.0000e+00],\n",
       "         [-9.3437e-01,  0.0000e+00,  1.5627e+00,  ...,  0.0000e+00,\n",
       "          -4.9296e-01,  0.0000e+00],\n",
       "         [-1.5758e+00,  0.0000e+00, -2.7763e+00,  ..., -1.0525e+00,\n",
       "          -1.4460e-01, -7.0349e-01]]], device='cuda:0',\n",
       "       grad_fn=<NativeDropoutBackward0>)"
      ]
     },
     "execution_count": 43,
     "metadata": {},
     "output_type": "execute_result"
    }
   ],
   "source": [
    "out[0]"
   ]
  },
  {
   "cell_type": "code",
   "execution_count": 81,
   "id": "c4a67dc5",
   "metadata": {},
   "outputs": [
    {
     "data": {
      "text/plain": [
       "<matplotlib.image.AxesImage at 0x7f96ec6c0df0>"
      ]
     },
     "execution_count": 81,
     "metadata": {},
     "output_type": "execute_result"
    },
    {
     "data": {
      "image/png": "[encoded data removed]",
      "text/plain": [
       "<Figure size 432x288 with 1 Axes>"
      ]
     },
     "metadata": {
      "needs_background": "light"
     },
     "output_type": "display_data"
    }
   ],
   "source": [
    "plt.imshow(out[0].cpu().detach().numpy())"
   ]
  },
  {
   "cell_type": "code",
   "execution_count": 77,
   "id": "60bbe191",
   "metadata": {
    "scrolled": true
   },
   "outputs": [
    {
     "data": {
      "text/plain": [
       "tensor([[[ 0.0000,  0.0000, -1.2339,  ...,  0.9492,  1.8898, -0.2451],\n",
       "         [-2.4980,  0.6041,  0.0000,  ...,  2.4160,  2.1055,  0.5978],\n",
       "         [ 0.0000,  1.6815,  4.5363,  ..., -0.6334,  0.0000, -0.4863],\n",
       "         ...,\n",
       "         [-1.1567, -0.9179, -1.7336,  ...,  1.6802,  0.2379,  0.8350],\n",
       "         [-1.4272,  1.6957, -1.8702,  ..., -0.9581,  0.8869, -0.1909],\n",
       "         [-1.2514, -0.9009, -1.6170,  ..., -1.2179,  0.0000,  0.0072]],\n",
       "\n",
       "        [[ 0.0000,  0.5787, -2.3537,  ...,  0.0000, -1.2258,  0.0000],\n",
       "         [ 0.8642, -1.2941, -0.2252,  ..., -2.1979,  0.0000, -0.8468],\n",
       "         [-0.1078,  3.3217,  0.0000,  ...,  0.0000,  0.0000, -0.5112],\n",
       "         ...,\n",
       "         [ 0.7614, -1.8301,  0.1740,  ...,  0.0000,  1.4504, -1.0729],\n",
       "         [ 1.5479,  0.7583,  2.8398,  ...,  0.0000,  0.0000,  0.0000],\n",
       "         [ 0.0000,  1.3199,  1.6451,  ...,  0.7919,  0.0000,  0.4428]],\n",
       "\n",
       "        [[ 1.0896,  0.0000, -1.2236,  ...,  0.0000,  0.0000,  0.0000],\n",
       "         [ 0.0000,  0.0000,  0.2540,  ...,  0.0000, -1.8583, -1.0472],\n",
       "         [-1.0935,  0.7898,  3.3862,  ..., -2.5573, -1.2691,  1.4124],\n",
       "         ...,\n",
       "         [ 1.8554, -2.2866,  0.0000,  ...,  2.1012,  1.3556,  0.6691],\n",
       "         [-1.3106, -1.2983,  0.0000,  ...,  1.8032,  0.9459,  0.2288],\n",
       "         [ 1.1024,  1.0834,  0.8088,  ...,  0.1139,  0.0000, -0.7487]],\n",
       "\n",
       "        ...,\n",
       "\n",
       "        [[ 0.6566, -1.8018, -0.9529,  ..., -2.0066,  0.0000,  0.0000],\n",
       "         [ 1.1731,  0.3221,  0.0000,  ..., -2.5230,  3.4765,  0.2739],\n",
       "         [ 3.6692, -0.3952,  1.9045,  ...,  1.0825, -1.5063,  0.2650],\n",
       "         ...,\n",
       "         [ 0.0000, -0.9657,  0.0000,  ..., -1.7359,  2.3407, -1.1943],\n",
       "         [-1.4548,  0.0000, -0.5978,  ..., -1.7689,  0.0000,  1.4593],\n",
       "         [ 1.2179, -1.1630,  0.0331,  ...,  0.3467,  0.1566,  0.0000]],\n",
       "\n",
       "        [[-1.0998, -0.3237, -0.0547,  ...,  1.2779, -2.4472,  0.0000],\n",
       "         [-1.1416,  0.0000,  0.0000,  ..., -0.6399,  0.0921,  0.4860],\n",
       "         [-2.5988, -1.4201, -1.3983,  ...,  5.2195, -3.5199,  2.4168],\n",
       "         ...,\n",
       "         [ 0.0000, -0.8739,  0.7539,  ..., -0.2242, -1.4759,  0.6702],\n",
       "         [-1.5518, -0.6063, -0.5474,  ...,  0.0000,  0.0000,  0.0000],\n",
       "         [-0.9926, -1.3151, -2.4441,  ..., -0.1421,  0.6278,  0.0000]],\n",
       "\n",
       "        [[-0.1783,  0.0000,  0.0000,  ..., -0.0951, -0.2487, -0.3062],\n",
       "         [ 1.2454,  2.5647, -3.3799,  ..., -0.8622, -2.7664, -0.7636],\n",
       "         [ 2.3607, -0.2159, -0.3189,  ...,  1.4448, -0.7536,  0.0000],\n",
       "         ...,\n",
       "         [ 0.0000, -1.2461, -0.7626,  ...,  0.0886,  0.0000, -0.6895],\n",
       "         [ 0.4189,  0.0000,  1.7787,  ...,  0.0000,  1.6860,  2.3808],\n",
       "         [-0.4617,  1.6191,  0.0000,  ...,  1.2774,  0.1110,  1.1597]]],\n",
       "       device='cuda:0', grad_fn=<NativeDropoutBackward0>)"
      ]
     },
     "execution_count": 77,
     "metadata": {},
     "output_type": "execute_result"
    }
   ],
   "source": [
    "model(test_img)[0]"
   ]
  },
  {
   "cell_type": "code",
   "execution_count": 102,
   "id": "55f00c49",
   "metadata": {},
   "outputs": [],
   "source": [
    "n = torch.tensor([[[0.23, 0.2332], [1.5, 7.9]], [[0.5, 0.1], [1.6, 0.4]]])"
   ]
  },
  {
   "cell_type": "code",
   "execution_count": 104,
   "id": "34c5f572",
   "metadata": {},
   "outputs": [
    {
     "data": {
      "text/plain": [
       "tensor([[[0.2300, 0.2332],\n",
       "         [1.5000, 7.9000]],\n",
       "\n",
       "        [[0.5000, 0.1000],\n",
       "         [1.6000, 0.4000]]])"
      ]
     },
     "execution_count": 104,
     "metadata": {},
     "output_type": "execute_result"
    }
   ],
   "source": [
    "n"
   ]
  },
  {
   "cell_type": "code",
   "execution_count": 103,
   "id": "a9b97d07",
   "metadata": {},
   "outputs": [
    {
     "data": {
      "text/plain": [
       "torch.Size([2, 2, 2])"
      ]
     },
     "execution_count": 103,
     "metadata": {},
     "output_type": "execute_result"
    }
   ],
   "source": [
    "n.shape"
   ]
  },
  {
   "cell_type": "code",
   "execution_count": 108,
   "id": "6365d558",
   "metadata": {},
   "outputs": [],
   "source": [
    "n = normalise_tensor(n)"
   ]
  },
  {
   "cell_type": "code",
   "execution_count": 109,
   "id": "618ce8e5",
   "metadata": {},
   "outputs": [
    {
     "data": {
      "text/plain": [
       "tensor([[[  0.,   0.],\n",
       "         [ 42., 255.]],\n",
       "\n",
       "        [[ 68.,   0.],\n",
       "         [255.,  51.]]])"
      ]
     },
     "execution_count": 109,
     "metadata": {},
     "output_type": "execute_result"
    }
   ],
   "source": [
    "n"
   ]
  },
  {
   "cell_type": "code",
   "execution_count": null,
   "id": "7fdf0fa3",
   "metadata": {},
   "outputs": [],
   "source": [
    "for tensor in batch:\n",
    "    tensor = normalise_tensor(tensor)"
   ]
  }
 ],
 "metadata": {
  "kernelspec": {
   "display_name": "Python 3 (ipykernel)",
   "language": "python",
   "name": "python3"
  },
  "language_info": {
   "codemirror_mode": {
    "name": "ipython",
    "version": 3
   },
   "file_extension": ".py",
   "mimetype": "text/x-python",
   "name": "python",
   "nbconvert_exporter": "python",
   "pygments_lexer": "ipython3",
   "version": "3.9.10"
  }
 },
 "nbformat": 4,
 "nbformat_minor": 5
}
