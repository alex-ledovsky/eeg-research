{
 "cells": [
  {
   "cell_type": "code",
   "execution_count": 1,
   "id": "4eac764a",
   "metadata": {
    "scrolled": true
   },
   "outputs": [],
   "source": [
    "# !gdown 1dQC6v3Z3FgNVO__HL8mQVjTvmNdvobe5"
   ]
  },
  {
   "cell_type": "code",
   "execution_count": 1,
   "id": "838b7df6",
   "metadata": {},
   "outputs": [],
   "source": [
    "import torch\n",
    "from torch import nn\n",
    "from torchsummary import summary\n",
    "import mne\n",
    "import os\n",
    "import matplotlib.pyplot as plt\n",
    "import numpy as np\n",
    "import warnings\n",
    "import csv\n",
    "\n",
    "from models.convae import ConvAE\n",
    "from utils.functions import *\n",
    "from utils.datasets import \n",
    "warnings.filterwarnings('ignore')\n",
    "%matplotlib inline"
   ]
  },
  {
   "cell_type": "markdown",
   "id": "3d55dfff",
   "metadata": {},
   "source": [
    "# To do:  \n",
    "1. Preproccess data from edf to csv +\n",
    "2. First approach based on spectrograms.\n",
    "3. Second approach http://users.cecs.anu.edu.au/~Tom.Gedeon/conf/ABCs2018/paper/ABCs2018_paper_216.pdf create rgb image.\n",
    "4. Third approach: https://sci-hub.hkvisa.net/10.1109/ACCESS.2018.2833746\n",
    "5. Compare different classifiers."
   ]
  },
  {
   "cell_type": "markdown",
   "id": "d301daa2",
   "metadata": {},
   "source": [
    "# Comments  \n",
    "1. There are 89 recordings with 21 channels and 9 recordings with 22 channels, so for the former I will take only 21 which are presented in the latter. Look at common_electrodes.\n",
    "2. For the first approch it is strictly necessary for all recordings to be the same length (I will take windows 4096 as in the paper)."
   ]
  },
  {
   "cell_type": "code",
   "execution_count": 5,
   "id": "f35939d6",
   "metadata": {},
   "outputs": [],
   "source": [
    "PATH = 'eeg_data/'\n",
    "PATH_TO_SAVE = 'eeg_data_csv/'\n",
    "PATH_TO_SAVE_TENSORS = 'eeg_data_tensors/'\n",
    "\n",
    "# parameters are acquired during EDA\n",
    "common_electrodes = ['EEG FP1-R', 'EEG FP2-R', 'EEG F3-R', 'EEG F4-R', 'EEG C3-R', 'EEG C4-R', \n",
    "                     'EEG P3-R', 'EEG P4-R', 'EEG O1-R', 'EEG O2-R', 'EEG F7-R', 'EEG F8-R', \n",
    "                     'EEG T3-R', 'EEG T4-R', 'EEG T5-R', 'EEG T6-R', 'EEG FPZ-R', 'EEG FZ-R', \n",
    "                     'EEG CZ-R', 'EEG PZ-R', 'EEG OZ-R']\n",
    "\n",
    "\n",
    "min_length = 21500\n",
    "filter_params = {'l_freq': 1, 'h_freq': 50, 'method': 'iir', 'n_jobs': -1, 'verbose': False}\n",
    "Fs = 500\n",
    "device = get_device()"
   ]
  },
  {
   "cell_type": "code",
   "execution_count": 8,
   "id": "3e63aa01",
   "metadata": {
    "scrolled": true
   },
   "outputs": [],
   "source": [
    "# get_np_from_edf(PATH, filter_params, PATH_TO_SAVE)\n",
    "# generate_tensors_from_csv(PATH_TO_SAVE, PATH_TO_SAVE_TENSORS, Fs)"
   ]
  },
  {
   "cell_type": "markdown",
   "id": "66ea5fe0",
   "metadata": {},
   "source": [
    "# Model for approach 1"
   ]
  },
  {
   "cell_type": "markdown",
   "id": "86890380",
   "metadata": {},
   "source": [
    "## Dataset"
   ]
  },
  {
   "cell_type": "code",
   "execution_count": 3,
   "id": "1053d57e",
   "metadata": {},
   "outputs": [],
   "source": [
    "class EegSpec(Dataset):\n",
    "    def __init__(self,\n",
    "                 phase: str,\n",
    "                 data_path: str = 'data'):\n",
    "        files = os.listdir(f'{data_path}/{phase}')\n",
    "        self.images = []\n",
    "        for f in files:\n",
    "            self.images.append(torch.load(f'{data_path}/' + f'{phase}/' + f))\n",
    "                         \n",
    "    def __len__(self):\n",
    "        return len(self.images)\n",
    "    \n",
    "    def __getitem__(self, idx):\n",
    "        return self.images[idx]"
   ]
  },
  {
   "cell_type": "code",
   "execution_count": 4,
   "id": "cb2e39b9",
   "metadata": {},
   "outputs": [],
   "source": [
    "BATCH = 8\n",
    "epoches = 150\n",
    "train_data = EegSpec(phase = 'train')\n",
    "validate_data = EegSpec(phase = 'validate')\n",
    "train_dataloader = DataLoader(train_data, batch_size = BATCH, \n",
    "                              shuffle = True, num_workers = 4) \n",
    "validation_dataloader = DataLoader(validate_data, batch_size = 10, \n",
    "                                   shuffle = False, num_workers = 4)\n",
    "model = ConvAE().to(device)\n",
    "optimizer = torch.optim.Adam(model.parameters(), lr = 1e-4)\n",
    "criterion = nn.MSELoss()"
   ]
  },
  {
   "cell_type": "markdown",
   "id": "573fca0d",
   "metadata": {},
   "source": [
    "## Training"
   ]
  },
  {
   "cell_type": "code",
   "execution_count": 14,
   "id": "56af3919",
   "metadata": {},
   "outputs": [],
   "source": [
    "def train(model, epoches, train_dataloader, validation_dataloader, device, criterion, model_name):\n",
    "    model = model.to(device)\n",
    "    writer = SummaryWriter(f'runs/{model_name}')\n",
    "    min_val_loss = np.inf\n",
    "    for epoch in range(epoches):\n",
    "        model.train()\n",
    "        train_loss = 0\n",
    "        for data in train_dataloader:\n",
    "            img = data.to(device, dtype = torch.float)\n",
    "            output = model(img)[0]\n",
    "            loss = criterion(output, img)\n",
    "            optimizer.zero_grad()\n",
    "            loss.backward()\n",
    "            optimizer.step()\n",
    "            train_loss += loss.item()\n",
    "        train_loss = train_loss / len(train_dataloader)\n",
    "\n",
    "        model.eval() \n",
    "        val_loss = 0\n",
    "        with torch.no_grad():\n",
    "            for img in validation_dataloader:\n",
    "                img = data.to(device, dtype = torch.float)\n",
    "                output = model(img)[0]\n",
    "                val_loss = criterion(output, img)\n",
    "                val_loss += val_loss.item()\n",
    "            val_loss = val_loss / len(validation_dataloader)\n",
    "            \n",
    "        writer.add_scalar('Loss/train', train_loss, epoch)\n",
    "        writer.add_scalar('Loss/val', val_loss, epoch)\n",
    "        if val_loss < min_val_loss:\n",
    "            min_val_loss = val_loss\n",
    "            torch.save(model.state_dict(),'best_val_loss_weights.pth')\n",
    "        print(f'epoch {epoch}/{epoches}\\n train loss: {train_loss}\\n validation_loss {val_loss}')"
   ]
  },
  {
   "cell_type": "code",
   "execution_count": 15,
   "id": "1f821437",
   "metadata": {
    "scrolled": true
   },
   "outputs": [],
   "source": [
    "# train(model, epoches, train_dataloader, validation_dataloader, device, criterion, 'ConvAE')"
   ]
  },
  {
   "cell_type": "code",
   "execution_count": 16,
   "id": "b56d1fa2",
   "metadata": {},
   "outputs": [],
   "source": [
    "model.load_state_dict(torch.load('best_val_loss_weights.pth'))\n",
    "model.eval();"
   ]
  },
  {
   "cell_type": "code",
   "execution_count": 91,
   "id": "ea606e0d",
   "metadata": {},
   "outputs": [],
   "source": [
    "test_batch = next(iter(train_dataloader)).to(device)"
   ]
  },
  {
   "cell_type": "code",
   "execution_count": 92,
   "id": "db1a76d6",
   "metadata": {
    "scrolled": false
   },
   "outputs": [
    {
     "data": {
      "image/png": "[encoded data removed]",
      "text/plain": [
       "<Figure size 432x288 with 1 Axes>"
      ]
     },
     "metadata": {
      "needs_background": "light"
     },
     "output_type": "display_data"
    }
   ],
   "source": [
    "plt.imshow(test_batch[0][0].detach().cpu().numpy());\n",
    "plt.axis('off');"
   ]
  },
  {
   "cell_type": "code",
   "execution_count": 93,
   "id": "b30b75c7",
   "metadata": {},
   "outputs": [],
   "source": [
    "out = model(test_batch)"
   ]
  },
  {
   "cell_type": "code",
   "execution_count": 94,
   "id": "192329f8",
   "metadata": {
    "scrolled": true
   },
   "outputs": [
    {
     "data": {
      "image/png": "[encoded data removed]",
      "text/plain": [
       "<Figure size 432x288 with 1 Axes>"
      ]
     },
     "metadata": {
      "needs_background": "light"
     },
     "output_type": "display_data"
    }
   ],
   "source": [
    "plt.imshow(out[0][0][0].detach().cpu().numpy());\n",
    "plt.axis('off');"
   ]
  },
  {
   "cell_type": "code",
   "execution_count": 21,
   "id": "df35bef8",
   "metadata": {},
   "outputs": [
    {
     "data": {
      "text/plain": [
       "torch.Size([8, 128])"
      ]
     },
     "execution_count": 21,
     "metadata": {},
     "output_type": "execute_result"
    }
   ],
   "source": [
    "out[1].shape"
   ]
  },
  {
   "cell_type": "code",
   "execution_count": 23,
   "id": "bf38bfe9",
   "metadata": {},
   "outputs": [],
   "source": [
    "class EegSpecFeats(Dataset):\n",
    "    def __init__(self,\n",
    "                 phase: str,\n",
    "                 data_path: str = 'MDD'):\n",
    "        files = os.listdir(f'{data_path}/{phase}')\n",
    "        self.images = []\n",
    "        self.filenames = []\n",
    "        for f in files:\n",
    "            self.images.append(torch.load(f'{data_path}/' + f'{phase}/' + f))\n",
    "            self.filenames.append(f)\n",
    "                         \n",
    "    def __len__(self):\n",
    "        return len(self.images)\n",
    "    \n",
    "    def __getitem__(self, idx):\n",
    "        return self.images[idx]\n",
    "    def get_filenames(self):\n",
    "        return self.filenames"
   ]
  },
  {
   "cell_type": "code",
   "execution_count": 29,
   "id": "c8572a0a",
   "metadata": {},
   "outputs": [],
   "source": [
    "health_dataset = EegSpecFeats(data_path = PATH_TO_SAVE_TENSORS, phase = 'Health')\n",
    "mdd_dataset = EegSpecFeats(data_path = PATH_TO_SAVE_TENSORS, phase = 'MDD')\n",
    "health_dataloader = DataLoader(health_dataset, batch_size = 10, shuffle = False, num_workers = 4)\n",
    "mdd_dataloader = DataLoader(mdd_dataset, batch_size = 10, shuffle = False, num_workers = 4)"
   ]
  },
  {
   "cell_type": "code",
   "execution_count": 56,
   "id": "827c02d4",
   "metadata": {},
   "outputs": [],
   "source": [
    "health_f = []\n",
    "header = [f'f{i}' for i in range(128)]\n",
    "isHeader = False\n",
    "for data in health_dataloader:\n",
    "    data = data.to(device)\n",
    "    out = model(data)[1].detach().cpu().numpy()\n",
    "    for row in out:\n",
    "        if not isHeader:\n",
    "            file = open(f'health.csv', 'w', newline = '')\n",
    "            isHeader = True\n",
    "            with file:\n",
    "                writer = csv.writer(file)\n",
    "                writer.writerow(header)        \n",
    "        file = open(f'health.csv', 'a', newline = '')\n",
    "        with file:\n",
    "            writer = csv.writer(file)\n",
    "            writer.writerow(row)"
   ]
  },
  {
   "cell_type": "code",
   "execution_count": 58,
   "id": "2a99cf1e",
   "metadata": {},
   "outputs": [],
   "source": [
    "h = pd.read_csv('health.csv')\n",
    "h.insert(0, 'file name', health_dataset.get_filenames())\n",
    "h.to_csv('health.csv')"
   ]
  },
  {
   "cell_type": "code",
   "execution_count": 59,
   "id": "acbed95e",
   "metadata": {},
   "outputs": [],
   "source": [
    "mdd_f = []\n",
    "header = [f'f{i}' for i in range(128)]\n",
    "isHeader = False\n",
    "for data in mdd_dataloader:\n",
    "    data = data.to(device)\n",
    "    out = model(data)[1].detach().cpu().numpy()\n",
    "    for row in out:\n",
    "        if not isHeader:\n",
    "            file = open(f'mdd.csv', 'w', newline = '')\n",
    "            isHeader = True\n",
    "            with file:\n",
    "                writer = csv.writer(file)\n",
    "                writer.writerow(header)        \n",
    "        file = open(f'mdd.csv', 'a', newline = '')\n",
    "        with file:\n",
    "            writer = csv.writer(file)\n",
    "            writer.writerow(row)"
   ]
  },
  {
   "cell_type": "code",
   "execution_count": 60,
   "id": "35213206",
   "metadata": {},
   "outputs": [],
   "source": [
    "m = pd.read_csv('mdd.csv')\n",
    "m.insert(0, 'file name', mdd_dataset.get_filenames())\n",
    "m.to_csv('mdd.csv')"
   ]
  },
  {
   "cell_type": "code",
   "execution_count": 36,
   "id": "34c922b9",
   "metadata": {},
   "outputs": [
    {
     "data": {
      "text/plain": [
       "5"
      ]
     },
     "execution_count": 36,
     "metadata": {},
     "output_type": "execute_result"
    }
   ],
   "source": [
    "len(health_f[7])"
   ]
  },
  {
   "cell_type": "code",
   "execution_count": 45,
   "id": "874a09a9",
   "metadata": {},
   "outputs": [
    {
     "data": {
      "text/plain": [
       "tensor([ 2.0948,  1.8812,  1.6527,  1.7678,  1.7166,  1.6069,  1.7088,  1.9060,\n",
       "         0.6992,  0.6389,  0.5886,  0.6436,  0.5983,  0.6503,  0.7645,  0.8344,\n",
       "         0.6952,  0.8466,  0.6301,  0.7302,  0.7343,  0.7623,  0.8546,  0.8041,\n",
       "         0.8226,  0.7045,  0.6912,  0.6192,  0.6159,  0.6570,  0.7747,  0.7853,\n",
       "         1.0181,  0.4639,  0.5384,  0.4713,  0.6332,  0.6866,  0.5807,  0.7493,\n",
       "         1.0927,  0.7722,  0.7328,  0.5490,  0.5065,  0.5772,  0.5921,  0.9336,\n",
       "         1.3305,  0.7891,  0.9573,  0.6127,  0.4914,  0.5120,  0.7163,  0.9842,\n",
       "         2.5248,  1.4502,  1.9663,  1.0216,  0.9279,  1.1229,  1.5794,  1.7727,\n",
       "        16.8642,  7.7779,  7.2417,  7.3572,  7.6402,  6.7321,  6.7653, 16.9557,\n",
       "         6.7316,  4.3614,  3.8945,  4.9851,  4.7570,  4.5987,  6.8231,  6.7789,\n",
       "         4.5484,  6.1570,  5.2453,  4.9310,  5.2493,  4.5872,  5.3296,  5.5320,\n",
       "         4.6503,  7.0016,  5.4474,  4.3409,  3.9280,  4.5617,  5.3723,  4.2917,\n",
       "         5.0872,  3.2753,  3.4196,  3.0180,  4.2307,  4.9937,  3.4812,  6.2075,\n",
       "         6.2255,  3.8065,  4.2522,  3.3868,  3.8164,  4.0360,  3.4121,  6.1483,\n",
       "         8.0029,  3.9622,  4.7046,  3.2687,  3.4599,  4.9567,  4.2444,  6.2954,\n",
       "        17.7396,  7.7433,  8.5830,  5.5973,  4.9535,  6.1471,  8.6268, 23.3669],\n",
       "       device='cuda:0')"
      ]
     },
     "execution_count": 45,
     "metadata": {},
     "output_type": "execute_result"
    }
   ],
   "source": [
    "health_f[7][0]"
   ]
  },
  {
   "cell_type": "code",
   "execution_count": 39,
   "id": "61395ca3",
   "metadata": {},
   "outputs": [],
   "source": [
    "ret = health_f[7].detach().cpu().numpy()"
   ]
  },
  {
   "cell_type": "code",
   "execution_count": 46,
   "id": "c3fd6161",
   "metadata": {},
   "outputs": [],
   "source": [
    "header = [f'f{i}' for i in range(128)]"
   ]
  },
  {
   "cell_type": "code",
   "execution_count": 47,
   "id": "9001ef9d",
   "metadata": {},
   "outputs": [
    {
     "name": "stdout",
     "output_type": "stream",
     "text": [
      "[ 2.0948      1.8811898   1.6527247   1.7677598   1.7165964   1.6068639\n",
      "  1.7088265   1.9060037   0.69916457  0.6388969   0.5886229   0.64362884\n",
      "  0.5982817   0.65030634  0.7644639   0.8343842   0.69516736  0.846591\n",
      "  0.630092    0.73021036  0.73432285  0.7622529   0.85460377  0.8040933\n",
      "  0.822559    0.7045189   0.69122857  0.61923593  0.6158853   0.65703386\n",
      "  0.77466357  0.7852755   1.0181283   0.46389386  0.5384315   0.47131556\n",
      "  0.6331739   0.686637    0.58068556  0.7493251   1.092744    0.77223915\n",
      "  0.73282534  0.54895383  0.50651217  0.57722557  0.59208286  0.9335909\n",
      "  1.330488    0.78908676  0.95729005  0.6126683   0.49143702  0.5119864\n",
      "  0.7162711   0.98417664  2.5248365   1.4501776   1.9663411   1.02163\n",
      "  0.9278975   1.1228806   1.5793616   1.7726841  16.864157    7.777888\n",
      "  7.2416787   7.357179    7.640246    6.732093    6.76525    16.955715\n",
      "  6.7316017   4.3614354   3.8945317   4.985123    4.7569623   4.5987406\n",
      "  6.823061    6.7789354   4.548403    6.156987    5.24531     4.9310446\n",
      "  5.249267    4.58716     5.329624    5.5319533   4.6503305   7.001565\n",
      "  5.447425    4.3408837   3.9280121   4.5616565   5.3723083   4.2917223\n",
      "  5.087247    3.2752712   3.419624    3.0180295   4.230663    4.9937124\n",
      "  3.4811983   6.2074924   6.2254806   3.8064792   4.2522225   3.3868449\n",
      "  3.8164482   4.035999    3.412072    6.14826     8.002879    3.9622464\n",
      "  4.70465     3.2686796   3.4598994   4.9566994   4.2443876   6.295378\n",
      " 17.739586    7.743293    8.583005    5.5972667   4.9535055   6.147099\n",
      "  8.626773   23.36694   ]\n",
      "[ 1.978399    1.7014041   1.6896911   1.7040836   1.6382192   1.6122513\n",
      "  1.7399489   2.1326425   0.71949023  0.60834104  0.6945499   0.742056\n",
      "  0.64382476  0.6219338   0.683249    0.70161825  0.8036468   0.6514346\n",
      "  0.6332744   0.67378116  0.59287     0.6285223   0.74365044  0.68418527\n",
      "  0.7649978   0.58709466  0.58292466  0.5050723   0.6020433   0.61989605\n",
      "  0.50273633  0.65707886  0.9172509   0.55810225  0.6399467   0.6117796\n",
      "  0.7727243   0.7099546   0.52600235  0.74462473  1.0707917   0.72734445\n",
      "  0.53303295  0.6783888   0.6812243   0.6193142   0.59441084  0.92425364\n",
      "  1.4447582   0.89913386  1.0190219   0.95298225  0.9037619   0.95430213\n",
      "  0.9208513   1.3109297   1.8495607   1.046028    1.0969957   0.95158786\n",
      "  0.9584413   0.90458447  0.9602812   1.4586978   9.023668    5.8412495\n",
      "  7.499746    6.8520384   7.6253605   6.235365    6.791499   17.704567\n",
      "  5.334979    5.4028907   6.0024867   6.0134044   4.3854527   7.8558936\n",
      "  4.739468    6.57231     5.820709    5.278828    5.109347    4.635334\n",
      "  3.9522674   4.994351    5.643008    5.1745715   6.1017346   4.238545\n",
      "  4.0711403   3.9169273   4.099163    4.763217    4.2937574   3.874941\n",
      "  7.5900435   3.0800414   3.5684717   3.6209075   4.253576    4.5507054\n",
      "  3.393266    4.830106    7.637041    3.6552863   3.3231947   3.8563297\n",
      "  3.5631833   3.2438776   3.5147617   5.00356     8.234119    5.0080338\n",
      "  5.798214    5.4384313   4.624388    4.733582    5.3042126   9.9346\n",
      " 17.180952    7.1704593   4.7534003   4.379016    4.4234467   4.176993\n",
      "  4.7998276  22.882597  ]\n",
      "[ 2.0257094   1.624321    1.4730047   1.6099044   2.1995869   1.7744292\n",
      "  1.5306315   2.114697    0.7941143   0.5695848   0.5186208   0.60033983\n",
      "  1.153845    0.7896387   0.71595556  0.7544505   0.77823025  0.5954595\n",
      "  0.8336211   0.67475146  1.3122622   0.7628649   0.8933424   0.53611714\n",
      "  0.7189847   0.61604285  0.74039006  0.7243447   1.1439017   0.75603044\n",
      "  0.7463186   0.5391721   0.85459083  0.5568546   0.58209646  0.5044803\n",
      "  0.981608    0.6595951   0.6769952   0.70880735  0.8761258   0.7510377\n",
      "  0.52522784  0.59043014  0.76347864  0.7547998   0.6301007   0.6804755\n",
      "  1.2765977   1.0087677   0.88515776  0.8646429   0.95812356  1.0130004\n",
      "  0.8787014   1.165576    1.6930419   1.3437221   1.2444068   1.3421161\n",
      "  1.350888    1.2764795   1.0741864   1.2748989   9.018555    7.4066896\n",
      "  6.051209    6.5056643   7.763964    9.120446    6.5037622  17.382746\n",
      "  5.2582474   4.938749    5.6318555   6.159689    7.0115137   5.2813687\n",
      "  4.9639874   7.1745005   4.653027    4.0410986   4.671445    4.24616\n",
      "  7.4413733   4.944352    5.222629    4.75796     5.47587     4.2658086\n",
      "  3.82436     4.4212756   5.668962    5.7455235   4.7714486   4.2228403\n",
      "  5.9656835   3.269753    3.6439972   3.2325737   5.430435    4.069652\n",
      "  3.797876    4.541747    7.171392    4.1495566   3.1324627   4.113907\n",
      "  3.807196    4.2680135   4.0190854   4.9893737   7.615411    4.7384257\n",
      "  5.4640813   4.919137    4.854176    4.367711    4.435279   10.108209\n",
      " 17.057426    7.5348597   6.9565406   8.898429    4.98993    25.413319\n",
      " 15.754144   19.718445  ]\n",
      "[ 1.735835    1.6036592   1.5397906   1.5276988   1.5805848   1.7430202\n",
      "  1.4686804   2.0239193   0.7578251   1.0380281   0.72022086  0.722331\n",
      "  0.67238504  0.62007934  0.6510144   0.8767275   0.77862334  1.1636921\n",
      "  0.6171693   0.6832324   0.6414587   0.62529284  0.796275    0.7500686\n",
      "  0.90593886  0.93881774  0.54301256  0.67271906  0.6002449   0.66881126\n",
      "  0.5968539   0.6376304   0.92970204  0.71437573  0.46057302  0.5927492\n",
      "  0.45900014  0.535741    0.5119235   0.6673783   1.0112873   0.8250203\n",
      "  0.63941365  0.5144933   0.5938471   0.7236722   0.5751084   0.7332904\n",
      "  1.2824582   0.9734172   0.99841964  0.80799705  0.91721517  1.0159205\n",
      "  0.8509242   1.2096416   1.5399815   1.1178141   1.0515822   1.0069132\n",
      "  1.1000037   1.3960562   1.1450719   1.4801698  10.015378    7.266608\n",
      "  6.0407124   6.477312    6.744706    7.170663    6.580789   15.959415\n",
      "  5.274171    6.0628185  10.463761    5.089431    6.5210066   4.800436\n",
      "  6.7937026   7.2438507   4.684829    6.9439473   8.052971    4.737449\n",
      "  5.156703    4.2791696   5.514714    5.659292    6.6639166   6.795123\n",
      "  3.4553344   4.413422    3.926771    3.6805577   5.055711    4.679953\n",
      "  6.2814255   4.2306576   3.4774828   4.210574    3.6338694   3.6838725\n",
      "  3.8107126   3.576447    7.660556    4.6113615   3.8534818   3.684329\n",
      "  3.8051784   3.7152634   3.4399698   5.523068    7.95303     5.659304\n",
      "  5.0947466   4.4792314   5.0378737   5.439914    5.354169   10.625198\n",
      " 15.095226   23.451473    5.858669   12.101889    6.133503   27.131205\n",
      "  6.2973394  22.652094  ]\n",
      "[ 1.642188    1.4263847   1.4515007   1.410866    1.5395954   1.5838012\n",
      "  1.5418284   2.0211098   0.62628835  0.5601154   0.47135186  0.5751658\n",
      "  0.6823069   0.6289419   0.64661676  0.8634691   0.6345561   0.8760547\n",
      "  0.6765279   0.6526658   0.8356342   0.762469    0.71412104  0.58235526\n",
      "  0.92196214  0.7748208   0.7451919   0.6479161   0.6761895   0.64351845\n",
      "  0.49848843  0.7638679   1.2000929   0.7476708   0.65189654  0.7845575\n",
      "  0.7657459   0.65096736  0.51068455  0.8543789   1.0561166   0.68696016\n",
      "  0.62139654  0.77882135  0.841586    0.5790247   0.56567156  0.9349927\n",
      "  1.2530004   0.8495055   0.9687522   0.88905466  0.88226247  0.8541414\n",
      "  0.8973853   1.0492977   1.9883692   1.0766133   0.9296835   0.97298414\n",
      "  0.99698806  0.9155051   0.9125253   1.2876301  10.00539     5.70332\n",
      "  6.3296537   6.766236    6.9919896   6.9904943   7.1243463  17.471066\n",
      "  7.850678    4.140042    4.0803924   4.4016876   5.685003    6.094009\n",
      "  5.0139227   6.593603    5.283827    6.033716    5.4834356   4.5370317\n",
      "  5.4628043   9.145794    7.0061073   5.53585     5.7529254   5.9478097\n",
      "  5.3370547   4.076472    4.6388288   3.7499673   3.5811388   4.7700896\n",
      "  6.1612206   4.1462097   3.1275778   3.9843934   4.5065675   4.5050144\n",
      "  3.1555696   7.4927835   5.581534    4.1433015   3.3848534   3.8364723\n",
      "  3.9907835   2.9674873   3.8260002   6.8166347   6.253123    5.4941344\n",
      "  4.8156505   4.5162888   5.0306687   4.933937    5.336168    9.519267\n",
      " 17.192877    5.943543    4.6911902   6.748621    5.3449416  14.222559\n",
      "  5.2703123  24.28615   ]\n"
     ]
    }
   ],
   "source": [
    "for row in ret:\n",
    "    print(row)"
   ]
  },
  {
   "cell_type": "code",
   "execution_count": 35,
   "id": "be23dcbb",
   "metadata": {},
   "outputs": [],
   "source": [
    "# def create_megabatch(path_to_tensors):\n",
    "#     health_batch = []\n",
    "#     mdd_batch = []\n",
    "#     for cls in os.listdir(path_to_tensors):\n",
    "#         for tensor_name in os.listdir(path_to_tensors + f'{cls}/'):\n",
    "#             filename = path_to_tensors + f'{cls}/' + tensor_name\n",
    "#             tensor = torch.load(filename)\n",
    "#             if cls == 'Health':\n",
    "#                 health_batch.append(tensor)\n",
    "#             else:\n",
    "#                 mdd_batch.append(tensor)\n",
    "#     return health_batch, mdd_batch"
   ]
  },
  {
   "cell_type": "code",
   "execution_count": 43,
   "id": "df7f5ac3",
   "metadata": {},
   "outputs": [],
   "source": [
    "# health, mdd = create_megabatch(PATH_TO_SAVE_TENSORS)\n",
    "# health_batch = torch.stack(health).to(device)\n",
    "# mdd_batch = torch.stack(mdd).to(device)"
   ]
  },
  {
   "cell_type": "code",
   "execution_count": null,
   "id": "29a59589",
   "metadata": {},
   "outputs": [],
   "source": []
  }
 ],
 "metadata": {
  "kernelspec": {
   "display_name": "Python 3 (ipykernel)",
   "language": "python",
   "name": "python3"
  },
  "language_info": {
   "codemirror_mode": {
    "name": "ipython",
    "version": 3
   },
   "file_extension": ".py",
   "mimetype": "text/x-python",
   "name": "python",
   "nbconvert_exporter": "python",
   "pygments_lexer": "ipython3",
   "version": "3.9.10"
  }
 },
 "nbformat": 4,
 "nbformat_minor": 5
}
