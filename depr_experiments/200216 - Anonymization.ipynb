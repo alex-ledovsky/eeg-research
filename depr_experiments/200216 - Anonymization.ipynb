{
 "cells": [
  {
   "cell_type": "code",
   "execution_count": 31,
   "metadata": {},
   "outputs": [],
   "source": [
    "import pandas as pd\n",
    "\n",
    "import hashlib\n",
    "from os import listdir\n",
    "from shutil import copyfile\n",
    "from os.path import join"
   ]
  },
  {
   "cell_type": "code",
   "execution_count": 2,
   "metadata": {},
   "outputs": [],
   "source": [
    "data_path = '../../preproc_data/depr/epoch_3/'"
   ]
  },
  {
   "cell_type": "code",
   "execution_count": 5,
   "metadata": {},
   "outputs": [],
   "source": [
    "!mkdir ../../preproc_data/depr_anon"
   ]
  },
  {
   "cell_type": "code",
   "execution_count": 6,
   "metadata": {},
   "outputs": [],
   "source": [
    "!mkdir ../../preproc_data/depr_anon/epoch_3"
   ]
  },
  {
   "cell_type": "code",
   "execution_count": 45,
   "metadata": {},
   "outputs": [],
   "source": [
    "new_data_path = '../../preproc_data/depr_anon/epoch_3'"
   ]
  },
  {
   "cell_type": "code",
   "execution_count": 3,
   "metadata": {},
   "outputs": [],
   "source": [
    "path_file = pd.read_csv(data_path + 'path_file.csv')"
   ]
  },
  {
   "cell_type": "code",
   "execution_count": 4,
   "metadata": {},
   "outputs": [
    {
     "data": {
      "text/html": [
       "<div>\n",
       "<style scoped>\n",
       "    .dataframe tbody tr th:only-of-type {\n",
       "        vertical-align: middle;\n",
       "    }\n",
       "\n",
       "    .dataframe tbody tr th {\n",
       "        vertical-align: top;\n",
       "    }\n",
       "\n",
       "    .dataframe thead th {\n",
       "        text-align: right;\n",
       "    }\n",
       "</style>\n",
       "<table border=\"1\" class=\"dataframe\">\n",
       "  <thead>\n",
       "    <tr style=\"text-align: right;\">\n",
       "      <th></th>\n",
       "      <th>fn</th>\n",
       "      <th>target</th>\n",
       "      <th>dataset</th>\n",
       "    </tr>\n",
       "  </thead>\n",
       "  <tbody>\n",
       "    <tr>\n",
       "      <th>0</th>\n",
       "      <td>Sulikova rest 23-06.csv</td>\n",
       "      <td>0</td>\n",
       "      <td>3min</td>\n",
       "    </tr>\n",
       "    <tr>\n",
       "      <th>1</th>\n",
       "      <td>Garah rest 17-07.csv</td>\n",
       "      <td>0</td>\n",
       "      <td>3min</td>\n",
       "    </tr>\n",
       "    <tr>\n",
       "      <th>2</th>\n",
       "      <td>Samedova rest 27-05.csv</td>\n",
       "      <td>0</td>\n",
       "      <td>3min</td>\n",
       "    </tr>\n",
       "    <tr>\n",
       "      <th>3</th>\n",
       "      <td>Usman rest 18-07.csv</td>\n",
       "      <td>0</td>\n",
       "      <td>3min</td>\n",
       "    </tr>\n",
       "    <tr>\n",
       "      <th>4</th>\n",
       "      <td>Kravchenko rest 12-04.csv</td>\n",
       "      <td>0</td>\n",
       "      <td>3min</td>\n",
       "    </tr>\n",
       "    <tr>\n",
       "      <th>...</th>\n",
       "      <td>...</td>\n",
       "      <td>...</td>\n",
       "      <td>...</td>\n",
       "    </tr>\n",
       "    <tr>\n",
       "      <th>84</th>\n",
       "      <td>Chernyaev rest 20-05.csv</td>\n",
       "      <td>1</td>\n",
       "      <td>8min</td>\n",
       "    </tr>\n",
       "    <tr>\n",
       "      <th>85</th>\n",
       "      <td>Zernova rest 17-11.csv</td>\n",
       "      <td>1</td>\n",
       "      <td>8min</td>\n",
       "    </tr>\n",
       "    <tr>\n",
       "      <th>86</th>\n",
       "      <td>Anosova rest 18-03.csv</td>\n",
       "      <td>1</td>\n",
       "      <td>8min</td>\n",
       "    </tr>\n",
       "    <tr>\n",
       "      <th>87</th>\n",
       "      <td>Konakova rest 27-03.csv</td>\n",
       "      <td>1</td>\n",
       "      <td>8min</td>\n",
       "    </tr>\n",
       "    <tr>\n",
       "      <th>88</th>\n",
       "      <td>Gyrieva rest 14-11.csv</td>\n",
       "      <td>1</td>\n",
       "      <td>8min</td>\n",
       "    </tr>\n",
       "  </tbody>\n",
       "</table>\n",
       "<p>89 rows × 3 columns</p>\n",
       "</div>"
      ],
      "text/plain": [
       "                           fn  target dataset\n",
       "0     Sulikova rest 23-06.csv       0    3min\n",
       "1        Garah rest 17-07.csv       0    3min\n",
       "2     Samedova rest 27-05.csv       0    3min\n",
       "3        Usman rest 18-07.csv       0    3min\n",
       "4   Kravchenko rest 12-04.csv       0    3min\n",
       "..                        ...     ...     ...\n",
       "84   Chernyaev rest 20-05.csv       1    8min\n",
       "85     Zernova rest 17-11.csv       1    8min\n",
       "86     Anosova rest 18-03.csv       1    8min\n",
       "87    Konakova rest 27-03.csv       1    8min\n",
       "88     Gyrieva rest 14-11.csv       1    8min\n",
       "\n",
       "[89 rows x 3 columns]"
      ]
     },
     "execution_count": 4,
     "metadata": {},
     "output_type": "execute_result"
    }
   ],
   "source": [
    "path_file"
   ]
  },
  {
   "cell_type": "code",
   "execution_count": 10,
   "metadata": {},
   "outputs": [],
   "source": [
    "hash_func = hashlib.sha256()"
   ]
  },
  {
   "cell_type": "code",
   "execution_count": 41,
   "metadata": {},
   "outputs": [],
   "source": [
    "hash_map = {}\n",
    "for i, row in path_file.iterrows():\n",
    "    fn_no_ext = row['fn']\n",
    "    hash_func.update(row['fn'].encode())\n",
    "    hash_map[row['fn']] = hash_func.hexdigest()[:16] + '.csv'"
   ]
  },
  {
   "cell_type": "code",
   "execution_count": 42,
   "metadata": {},
   "outputs": [],
   "source": [
    "new_path_file = path_file.copy()"
   ]
  },
  {
   "cell_type": "code",
   "execution_count": 43,
   "metadata": {},
   "outputs": [],
   "source": [
    "new_path_file['fn'] = path_file['fn'].apply(lambda s: hash_map[s])"
   ]
  },
  {
   "cell_type": "code",
   "execution_count": 46,
   "metadata": {},
   "outputs": [],
   "source": [
    "for fn in listdir(data_path):\n",
    "    if fn[-3:] == 'csv' and 'path_file' not in fn:\n",
    "        new_fn = hash_map[fn]\n",
    "        copyfile(join(data_path, fn), join(new_data_path, new_fn))"
   ]
  },
  {
   "cell_type": "code",
   "execution_count": 47,
   "metadata": {},
   "outputs": [],
   "source": [
    "new_path_file.to_csv(join(new_data_path, 'path_file.csv'), index=False)"
   ]
  },
  {
   "cell_type": "code",
   "execution_count": 48,
   "metadata": {},
   "outputs": [
    {
     "data": {
      "text/html": [
       "<div>\n",
       "<style scoped>\n",
       "    .dataframe tbody tr th:only-of-type {\n",
       "        vertical-align: middle;\n",
       "    }\n",
       "\n",
       "    .dataframe tbody tr th {\n",
       "        vertical-align: top;\n",
       "    }\n",
       "\n",
       "    .dataframe thead th {\n",
       "        text-align: right;\n",
       "    }\n",
       "</style>\n",
       "<table border=\"1\" class=\"dataframe\">\n",
       "  <thead>\n",
       "    <tr style=\"text-align: right;\">\n",
       "      <th></th>\n",
       "      <th>fn</th>\n",
       "      <th>target</th>\n",
       "      <th>dataset</th>\n",
       "    </tr>\n",
       "  </thead>\n",
       "  <tbody>\n",
       "    <tr>\n",
       "      <th>0</th>\n",
       "      <td>8df7f4315aab65d0.csv</td>\n",
       "      <td>0</td>\n",
       "      <td>3min</td>\n",
       "    </tr>\n",
       "    <tr>\n",
       "      <th>1</th>\n",
       "      <td>6b3fabf3072a5edc.csv</td>\n",
       "      <td>0</td>\n",
       "      <td>3min</td>\n",
       "    </tr>\n",
       "    <tr>\n",
       "      <th>2</th>\n",
       "      <td>e9b730d66e5aa5da.csv</td>\n",
       "      <td>0</td>\n",
       "      <td>3min</td>\n",
       "    </tr>\n",
       "    <tr>\n",
       "      <th>3</th>\n",
       "      <td>6e515df9bbd948bf.csv</td>\n",
       "      <td>0</td>\n",
       "      <td>3min</td>\n",
       "    </tr>\n",
       "    <tr>\n",
       "      <th>4</th>\n",
       "      <td>8187673f5e81a140.csv</td>\n",
       "      <td>0</td>\n",
       "      <td>3min</td>\n",
       "    </tr>\n",
       "    <tr>\n",
       "      <th>...</th>\n",
       "      <td>...</td>\n",
       "      <td>...</td>\n",
       "      <td>...</td>\n",
       "    </tr>\n",
       "    <tr>\n",
       "      <th>84</th>\n",
       "      <td>57856d37ad09873c.csv</td>\n",
       "      <td>1</td>\n",
       "      <td>8min</td>\n",
       "    </tr>\n",
       "    <tr>\n",
       "      <th>85</th>\n",
       "      <td>0c6dda22e2e44565.csv</td>\n",
       "      <td>1</td>\n",
       "      <td>8min</td>\n",
       "    </tr>\n",
       "    <tr>\n",
       "      <th>86</th>\n",
       "      <td>78357506dc397116.csv</td>\n",
       "      <td>1</td>\n",
       "      <td>8min</td>\n",
       "    </tr>\n",
       "    <tr>\n",
       "      <th>87</th>\n",
       "      <td>8470757d7c128e18.csv</td>\n",
       "      <td>1</td>\n",
       "      <td>8min</td>\n",
       "    </tr>\n",
       "    <tr>\n",
       "      <th>88</th>\n",
       "      <td>ce2528508b326e77.csv</td>\n",
       "      <td>1</td>\n",
       "      <td>8min</td>\n",
       "    </tr>\n",
       "  </tbody>\n",
       "</table>\n",
       "<p>89 rows × 3 columns</p>\n",
       "</div>"
      ],
      "text/plain": [
       "                      fn  target dataset\n",
       "0   8df7f4315aab65d0.csv       0    3min\n",
       "1   6b3fabf3072a5edc.csv       0    3min\n",
       "2   e9b730d66e5aa5da.csv       0    3min\n",
       "3   6e515df9bbd948bf.csv       0    3min\n",
       "4   8187673f5e81a140.csv       0    3min\n",
       "..                   ...     ...     ...\n",
       "84  57856d37ad09873c.csv       1    8min\n",
       "85  0c6dda22e2e44565.csv       1    8min\n",
       "86  78357506dc397116.csv       1    8min\n",
       "87  8470757d7c128e18.csv       1    8min\n",
       "88  ce2528508b326e77.csv       1    8min\n",
       "\n",
       "[89 rows x 3 columns]"
      ]
     },
     "execution_count": 48,
     "metadata": {},
     "output_type": "execute_result"
    }
   ],
   "source": [
    "new_path_file"
   ]
  },
  {
   "cell_type": "code",
   "execution_count": null,
   "metadata": {},
   "outputs": [],
   "source": []
  }
 ],
 "metadata": {
  "kernelspec": {
   "display_name": "Python 3",
   "language": "python",
   "name": "python3"
  },
  "language_info": {
   "codemirror_mode": {
    "name": "ipython",
    "version": 3
   },
   "file_extension": ".py",
   "mimetype": "text/x-python",
   "name": "python",
   "nbconvert_exporter": "python",
   "pygments_lexer": "ipython3",
   "version": "3.7.1"
  }
 },
 "nbformat": 4,
 "nbformat_minor": 2
}
