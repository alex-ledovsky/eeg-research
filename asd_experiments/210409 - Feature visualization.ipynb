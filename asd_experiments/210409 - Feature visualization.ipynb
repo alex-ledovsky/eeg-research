{
 "cells": [
  {
   "source": [
    "## This notebook contains code for plotting tfr-representaion of EEG data using plotly."
   ],
   "cell_type": "markdown",
   "metadata": {}
  },
  {
   "cell_type": "code",
   "execution_count": null,
   "metadata": {},
   "outputs": [],
   "source": [
    "import numpy as np\n",
    "import pandas as pd\n",
    "import mne\n",
    "import plotly.graph_objects as go\n",
    "from plotly.subplots import make_subplots"
   ]
  },
  {
   "cell_type": "code",
   "execution_count": null,
   "metadata": {},
   "outputs": [],
   "source": [
    "from plotly.io import templates\n",
    "\n",
    "templates.default = 'plotly'\n",
    "templates"
   ]
  },
  {
   "cell_type": "code",
   "execution_count": null,
   "metadata": {},
   "outputs": [],
   "source": [
    "from pathlib import Path\n",
    "\n",
    "path = Path('../data/asd/')\n",
    "freqs = np.linspace(4, 12, 41)\n",
    "\n",
    "info = pd.read_csv(path / 'path_file.csv')\n",
    "eegs = {i: mne.io.read_raw_fif(path/fn, verbose=False) for i, fn in info['fn'].items()}\n",
    "\n",
    "typical = np.where(info['target'] == 'typical')[0]\n",
    "asd = np.where(info['target'] == 'asd')[0]\n",
    "\n",
    "ch_names = eegs[0].ch_names\n",
    "\n",
    "assert np.all([eegs[i].info['sfreq'] == sfreq for i, sfreq in info['sfreq'].items()])"
   ]
  },
  {
   "cell_type": "code",
   "execution_count": null,
   "metadata": {},
   "outputs": [],
   "source": [
    "def compute_tfr(data, freqs, sfreq=125):\n",
    "    return mne.time_frequency.tfr_array_multitaper(data[np.newaxis], sfreq=sfreq, freqs=freqs, output='avg_power')\n",
    "\n",
    "\n",
    "# def plot_tfr(raw, channels, freqs, tmin=0, tmax=None):\n",
    "#     data, times = raw[channels, tmin:tmax]\n",
    "#     tfr = compute_tfr(data, freqs, raw.info['sfreq'])\n",
    "#     fig = go.Figure(\n",
    "#         data=[go.Heatmap(x=times, y=freqs, z=tfr[0])],\n",
    "#         layout=go.Layout(title='TFR Representation',\n",
    "#                          title_xanchor='center',\n",
    "#                          title_x= 0.5,\n",
    "#                          xaxis_title='Time (seconds)',\n",
    "#                          yaxis_title='Frequncy (Hz)')\n",
    "#     )\n",
    "#     if not isinstance(channels, str):\n",
    "#         fig.update_layout(\n",
    "#             updatemenus=[dict(type='dropdown',\n",
    "#                             buttons=[\n",
    "#                                 dict(args=[{'z': [tfr[i]]},\n",
    "#                                            {'title': f'TFR Representation ({ch_name})'}],\n",
    "#                                     label=ch_name,\n",
    "#                                     method='update')\n",
    "#                                 for i, ch_name in enumerate(channels)]\n",
    "#             )]\n",
    "#         )\n",
    "#     return fig\n",
    "\n",
    "\n",
    "# def plot_signal(raw, channels, tmin=0, tmax=None):\n",
    "#     data, times = raw[channels, tmin:tmax]\n",
    "#     fig = go.Figure(\n",
    "#         data=[go.Scatter(x=times, y=data[0], mode='lines')],\n",
    "#         layout=go.Layout(title='EEG Signal',\n",
    "#                          title_xanchor='center',\n",
    "#                          title_x= 0.5,\n",
    "#                          xaxis_title='Time (seconds)',\n",
    "#                          yaxis_title='Power')\n",
    "#     )\n",
    "#     if not isinstance(channels, str):\n",
    "#         fig.update_layout(\n",
    "#             updatemenus=[dict(type='dropdown',\n",
    "#                             buttons=[\n",
    "#                                 dict(args=[{'y': [data[i]]},\n",
    "#                                            {'title': f'EEG Signal ({ch_name})'}],\n",
    "#                                     label=ch_name,\n",
    "#                                     method='update')\n",
    "#                                 for i, ch_name in enumerate(channels)]\n",
    "#             )]\n",
    "#         )\n",
    "#     return fig\n",
    "\n",
    "\n",
    "def plot_channels(raw, tmin=0, tmax=None):\n",
    "    data, times = raw[ch_names, tmin:tmax]\n",
    "    fig = make_subplots(rows=len(ch_names),\n",
    "                        cols=1,\n",
    "                        shared_xaxes=True,\n",
    "                        vertical_spacing=0.005)\n",
    "\n",
    "    for i, ch_name in enumerate(ch_names):\n",
    "        fig.add_trace(go.Scatter(x=times, y=data[i], mode='lines', name=ch_name), row=i+1, col=1)\n",
    "        fig.update_yaxes(title_text=ch_name, row=i+1, col=1)\n",
    "\n",
    "    fig.update_layout(title='EEG Signal',\n",
    "                      title_xanchor='center',\n",
    "                      title_x= 0.5,\n",
    "                      height=1500)\n",
    "\n",
    "    fig.update_xaxes(title_text='Time (s)', row=len(ch_names), col=1)\n",
    "\n",
    "    return fig\n",
    "\n",
    "def plot_combined(raw, channels, freqs, tmin=0, tmax=None):\n",
    "    data, times = raw[channels, tmin:tmax]\n",
    "    filtered_data = mne.filter.filter_data(data, raw.info['sfreq'], freqs.min(), freqs.max(), verbose=False)\n",
    "    tfr = compute_tfr(data, freqs, raw.info['sfreq'])\n",
    "    fig = make_subplots(rows=3,\n",
    "                        cols=1,\n",
    "                        shared_xaxes=True, \n",
    "                        subplot_titles=('TFR Representation', 'Raw Signal', 'Filtered signal'),\n",
    "                        vertical_spacing=0.035)\n",
    "\n",
    "    fig.add_trace(go.Heatmap(x=times, y=freqs, z=tfr[0], name='spectrogram'), row=1, col=1)\n",
    "    fig.add_trace(go.Scatter(x=times, y=data[0], mode='lines', name='raw signal'), row=2, col=1)\n",
    "    fig.add_trace(go.Scatter(x=times, y=filtered_data[0], mode='lines', name='filtered signal'), row=3, col=1)\n",
    "\n",
    "    fig.update_layout(height=1000)\n",
    "\n",
    "    fig.update_yaxes(title_text='Frequncy (Hz)', row=1, col=1)\n",
    "    fig.update_yaxes(title_text='Amplitude (μV)', row=2, col=1)\n",
    "    fig.update_yaxes(title_text='Amplitude (μV)', row=3, col=1)\n",
    "    fig.update_xaxes(title_text='Time (s)', row=3, col=1)\n",
    "\n",
    "    if not isinstance(channels, str):\n",
    "        fig.update_layout(\n",
    "            updatemenus=[dict(type='dropdown',\n",
    "                            buttons=[\n",
    "                                dict(args=[{'y': [freqs, data[i], filtered_data[i]], 'z': [tfr[i], None, None]}],\n",
    "                                    label=ch_name,\n",
    "                                    method='restyle')\n",
    "                                for i, ch_name in enumerate(channels)]\n",
    "            )]\n",
    "        )\n",
    "    return fig"
   ]
  },
  {
   "cell_type": "code",
   "execution_count": null,
   "metadata": {},
   "outputs": [],
   "source": [
    "plot_combined(eegs[typical[0]], ch_names, freqs, tmax=1000)"
   ]
  },
  {
   "cell_type": "code",
   "execution_count": null,
   "metadata": {},
   "outputs": [],
   "source": [
    "plot_combined(eegs[asd[1]], ch_names, freqs, tmax=1000)"
   ]
  },
  {
   "cell_type": "code",
   "execution_count": null,
   "metadata": {},
   "outputs": [],
   "source": [
    "plot_channels(eegs[typical[0]])"
   ]
  },
  {
   "cell_type": "code",
   "execution_count": null,
   "metadata": {},
   "outputs": [],
   "source": [
    "plot_channels(eegs[asd[0]])"
   ]
  },
  {
   "cell_type": "code",
   "execution_count": null,
   "metadata": {},
   "outputs": [],
   "source": []
  }
 ],
 "metadata": {
  "kernelspec": {
   "display_name": "Python 3",
   "language": "python",
   "name": "python3"
  },
  "language_info": {
   "codemirror_mode": {
    "name": "ipython",
    "version": 3
   },
   "file_extension": ".py",
   "mimetype": "text/x-python",
   "name": "python",
   "nbconvert_exporter": "python",
   "pygments_lexer": "ipython3",
   "version": "3.9.1"
  }
 },
 "nbformat": 4,
 "nbformat_minor": 2
}