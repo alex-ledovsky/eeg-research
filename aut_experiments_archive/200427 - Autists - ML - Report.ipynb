{
 "cells": [
  {
   "cell_type": "markdown",
   "metadata": {},
   "source": [
    "# Построение моделей по данным аутизма по возрастам\n",
    "\n",
    "Провели исследование предиктивной силы признаков. Использовали только записи 30 и более секунд. Использовали только первые 30 секунд, таким образом все записи были одинаковой длины. Также как и в предыдущем исследовании разбили их на две равные части по 15 секунд.\n",
    "\n",
    "Построили модели на всех возрастах и на разных возрастных группах\n",
    "\n",
    "Модель на 9+ построить не получается. По остальным группам получены неплохие результаты. По некоторым группа ROC-AUC приблизился к 0.9 на вторых половинах записей."
   ]
  },
  {
   "cell_type": "code",
   "execution_count": 25,
   "metadata": {},
   "outputs": [
    {
     "name": "stdout",
     "output_type": "stream",
     "text": [
      "The autoreload extension is already loaded. To reload it, use:\n",
      "  %reload_ext autoreload\n"
     ]
    }
   ],
   "source": [
    "%load_ext autoreload\n",
    "%autoreload 2\n",
    "\n",
    "import sys\n",
    "sys.path.append('../eeg-research/')\n",
    "\n",
    "from os.path import join\n",
    "\n",
    "import pipeline.features\n",
    "import pipeline.models\n"
   ]
  },
  {
   "cell_type": "code",
   "execution_count": 18,
   "metadata": {},
   "outputs": [],
   "source": [
    "import numpy as np\n",
    "import pandas as pd\n",
    "\n",
    "import matplotlib.pyplot as plt\n",
    "import seaborn as sns\n",
    "%matplotlib inline\n",
    "%config InlineBackend.figure_format = 'svg'\n",
    "plt.rcParams[\"font.family\"] = \"Times New Roman\"\n",
    "\n",
    "\n",
    "from sklearn.metrics import roc_auc_score"
   ]
  },
  {
   "cell_type": "code",
   "execution_count": 40,
   "metadata": {},
   "outputs": [],
   "source": [
    "def get_feat_scores(df):\n",
    "    res = {}\n",
    "    for col in df.columns:\n",
    "        if col in ['target', 'fn']:\n",
    "            continue\n",
    "        res[col] = roc_auc_score(df['target'], df[col].fillna(0))\n",
    "    \n",
    "    res = pd.Series(res).to_frame().reset_index()\n",
    "    res.columns = ['feature', 'roc_auc']\n",
    "    res['sign'] = res['roc_auc'].apply(lambda val: 1 if val > 1 - val else 0)\n",
    "    res['roc_auc'] = res['roc_auc'].apply(lambda val: max(val, 1 - val))\n",
    "    res.sort_values('roc_auc', ascending=False, inplace=True)\n",
    "    return res\n",
    "\n",
    "def get_binary_target(df):\n",
    "    df = df[df['target'] != 'organic'].copy()\n",
    "    df['target'] = df['target'].replace('asd', 1).replace('typical', 0).astype(int)\n",
    "    return df\n",
    "\n",
    "\n",
    "def get_binary_target_2(df):\n",
    "    df['target'] = df['target'].replace('asd', 1).replace('organic', 0).replace('typical', 0).astype(int)\n",
    "    return df"
   ]
  },
  {
   "cell_type": "markdown",
   "metadata": {},
   "source": [
    "## Будем использовать записи по 30 секунд\n",
    "\n",
    "Это не сильно уменьшать выборку, но получить более стабильные признаки"
   ]
  },
  {
   "cell_type": "code",
   "execution_count": 75,
   "metadata": {},
   "outputs": [],
   "source": [
    "base_path = '../own_data/200426_autists_features_v2_thr30/'"
   ]
  },
  {
   "cell_type": "code",
   "execution_count": 359,
   "metadata": {},
   "outputs": [],
   "source": [
    "path_df = pd.read_csv('../../preproc_data/autists/path_file.csv')\n",
    "path_df = path_df[path_df['target'] != 'organic']\n",
    "path_df = path_df[path_df['seconds'] >= 30]\n",
    "path_df = path_df[~path_df['fn'].isin(['fedya_10_og.csv', 'hartonov-3_asd.csv', \n",
    "                                       'voroncova_kristina_5_fon.csv'])]\n",
    "path_df['age'] = path_df['age'].fillna(0)"
   ]
  },
  {
   "cell_type": "code",
   "execution_count": 360,
   "metadata": {},
   "outputs": [],
   "source": [
    "from pipeline.features import get_merged_df"
   ]
  },
  {
   "cell_type": "code",
   "execution_count": 361,
   "metadata": {},
   "outputs": [],
   "source": [
    "feature_methods = [\n",
    "    'env-alpha',\n",
    "    'env-beta',\n",
    "    'env-theta',\n",
    "    'coh-alpha',\n",
    "    'coh-beta',\n",
    "    'coh-theta',\n",
    "    'bands'\n",
    "]\n",
    "\n",
    "def get_df(df_type):\n",
    "    df = get_merged_df(join(base_path, df_type), feature_methods)\n",
    "    return get_binary_target(df)\n",
    "\n",
    "df = get_df('full')\n",
    "df_1 = get_df('part_1')\n",
    "df_2 = get_df('part_2')"
   ]
  },
  {
   "cell_type": "code",
   "execution_count": 362,
   "metadata": {},
   "outputs": [
    {
     "data": {
      "text/html": [
       "<div>\n",
       "<style scoped>\n",
       "    .dataframe tbody tr th:only-of-type {\n",
       "        vertical-align: middle;\n",
       "    }\n",
       "\n",
       "    .dataframe tbody tr th {\n",
       "        vertical-align: top;\n",
       "    }\n",
       "\n",
       "    .dataframe thead th {\n",
       "        text-align: right;\n",
       "    }\n",
       "</style>\n",
       "<table border=\"1\" class=\"dataframe\">\n",
       "  <thead>\n",
       "    <tr style=\"text-align: right;\">\n",
       "      <th></th>\n",
       "      <th>Age</th>\n",
       "      <th>N</th>\n",
       "      <th>N autism</th>\n",
       "      <th>N hc</th>\n",
       "    </tr>\n",
       "  </thead>\n",
       "  <tbody>\n",
       "    <tr>\n",
       "      <th>0</th>\n",
       "      <td>All</td>\n",
       "      <td>203</td>\n",
       "      <td>119</td>\n",
       "      <td>84</td>\n",
       "    </tr>\n",
       "    <tr>\n",
       "      <th>1</th>\n",
       "      <td>2-4</td>\n",
       "      <td>51</td>\n",
       "      <td>35</td>\n",
       "      <td>16</td>\n",
       "    </tr>\n",
       "    <tr>\n",
       "      <th>2</th>\n",
       "      <td>5-6</td>\n",
       "      <td>57</td>\n",
       "      <td>26</td>\n",
       "      <td>31</td>\n",
       "    </tr>\n",
       "    <tr>\n",
       "      <th>3</th>\n",
       "      <td>7+</td>\n",
       "      <td>90</td>\n",
       "      <td>53</td>\n",
       "      <td>37</td>\n",
       "    </tr>\n",
       "    <tr>\n",
       "      <th>4</th>\n",
       "      <td>7-8</td>\n",
       "      <td>45</td>\n",
       "      <td>31</td>\n",
       "      <td>14</td>\n",
       "    </tr>\n",
       "    <tr>\n",
       "      <th>5</th>\n",
       "      <td>6-8</td>\n",
       "      <td>69</td>\n",
       "      <td>39</td>\n",
       "      <td>30</td>\n",
       "    </tr>\n",
       "    <tr>\n",
       "      <th>6</th>\n",
       "      <td>9+</td>\n",
       "      <td>45</td>\n",
       "      <td>22</td>\n",
       "      <td>23</td>\n",
       "    </tr>\n",
       "  </tbody>\n",
       "</table>\n",
       "</div>"
      ],
      "text/plain": [
       "   Age    N  N autism  N hc\n",
       "0  All  203       119    84\n",
       "1  2-4   51        35    16\n",
       "2  5-6   57        26    31\n",
       "3   7+   90        53    37\n",
       "4  7-8   45        31    14\n",
       "5  6-8   69        39    30\n",
       "6   9+   45        22    23"
      ]
     },
     "execution_count": 362,
     "metadata": {},
     "output_type": "execute_result"
    }
   ],
   "source": [
    "intervals = [\n",
    "    ('All', 0, 100),\n",
    "    ('2-4', 2, 4),\n",
    "    ('5-6', 5, 6),\n",
    "    ('7+', 7, 100),\n",
    "    ('7-8', 7, 8),\n",
    "    ('6-8', 6, 8),\n",
    "    ('9+', 9, 100), \n",
    "]\n",
    "\n",
    "rows = []\n",
    "to_select = {}\n",
    "for name, val_from, val_to in intervals:\n",
    "    cur_df = path_df[(path_df['age'] >= val_from) & (path_df['age'] <= val_to)]\n",
    "    to_select[name] = cur_df['fn']\n",
    "    rows.append({\n",
    "        'Age': name,\n",
    "        'N': len(cur_df),\n",
    "        'N autism': len(cur_df[cur_df['target'] == 'asd']),\n",
    "        'N hc': len(cur_df[cur_df['target'] == 'typical']),\n",
    "    })\n",
    "    \n",
    "age_summary_df = pd.DataFrame(rows)\n",
    "age_summary_df"
   ]
  },
  {
   "cell_type": "markdown",
   "metadata": {},
   "source": [
    "## Оцениваем потенциал признаков\n",
    "\n",
    "**Выводы**\n",
    "\n",
    "Разбиение 2-4, 5-6, 7+ в целом нормальное, но лучше разбить дополнительно на 7-8 и 9+"
   ]
  },
  {
   "cell_type": "code",
   "execution_count": 363,
   "metadata": {},
   "outputs": [],
   "source": [
    "def get_merged_feat_scores(df, df_1, df_2, fns_to_select):\n",
    "\n",
    "    df = df[df['fn'].isin(fns_to_select)]\n",
    "    df_1 = df_1[df_1['fn'].isin(fns_to_select)]\n",
    "    df_2 = df_2[df_2['fn'].isin(fns_to_select)]\n",
    "\n",
    "\n",
    "    feat_scores_full = get_feat_scores(df)\n",
    "    feat_scores_part1 = get_feat_scores(df_1)\n",
    "    feat_scores_part2 = get_feat_scores(df_2)\n",
    "\n",
    "    feat_scores_merged = (feat_scores_full\n",
    "        .merge(feat_scores_part1[['feature', 'roc_auc']], on='feature', suffixes=('_full', '_part1'))\n",
    "        .merge(feat_scores_part2[['feature', 'roc_auc']].rename(columns={'roc_auc': 'roc_auc_part2'}), on='feature'))\n",
    "    \n",
    "    feat_scores_merged.sort_values('roc_auc_full', ascending=False, inplace=True)\n",
    "    \n",
    "    feat_scores_merged['diff'] = feat_scores_merged.apply(\n",
    "    lambda row: (\n",
    "        max(row['roc_auc_full'], row['roc_auc_part1'], row['roc_auc_part2']) - \n",
    "        min(row['roc_auc_full'], row['roc_auc_part1'], row['roc_auc_part2'])), \n",
    "    axis=1)\n",
    "    \n",
    "    return feat_scores_merged"
   ]
  },
  {
   "cell_type": "code",
   "execution_count": 364,
   "metadata": {},
   "outputs": [
    {
     "data": {
      "text/html": [
       "<div>\n",
       "<style scoped>\n",
       "    .dataframe tbody tr th:only-of-type {\n",
       "        vertical-align: middle;\n",
       "    }\n",
       "\n",
       "    .dataframe tbody tr th {\n",
       "        vertical-align: top;\n",
       "    }\n",
       "\n",
       "    .dataframe thead th {\n",
       "        text-align: right;\n",
       "    }\n",
       "</style>\n",
       "<table border=\"1\" class=\"dataframe\">\n",
       "  <thead>\n",
       "    <tr style=\"text-align: right;\">\n",
       "      <th></th>\n",
       "      <th>feature</th>\n",
       "      <th>roc_auc_full</th>\n",
       "      <th>sign</th>\n",
       "      <th>roc_auc_part1</th>\n",
       "      <th>roc_auc_part2</th>\n",
       "      <th>diff</th>\n",
       "    </tr>\n",
       "  </thead>\n",
       "  <tbody>\n",
       "    <tr>\n",
       "      <th>0</th>\n",
       "      <td>bands_gamma_t6</td>\n",
       "      <td>0.855357</td>\n",
       "      <td>1</td>\n",
       "      <td>0.851786</td>\n",
       "      <td>0.835714</td>\n",
       "      <td>0.019643</td>\n",
       "    </tr>\n",
       "    <tr>\n",
       "      <th>1</th>\n",
       "      <td>bands_gamma_pz</td>\n",
       "      <td>0.833929</td>\n",
       "      <td>1</td>\n",
       "      <td>0.816071</td>\n",
       "      <td>0.807143</td>\n",
       "      <td>0.026786</td>\n",
       "    </tr>\n",
       "    <tr>\n",
       "      <th>2</th>\n",
       "      <td>bands_gamma_c3</td>\n",
       "      <td>0.816071</td>\n",
       "      <td>1</td>\n",
       "      <td>0.803571</td>\n",
       "      <td>0.805357</td>\n",
       "      <td>0.012500</td>\n",
       "    </tr>\n",
       "    <tr>\n",
       "      <th>3</th>\n",
       "      <td>coh_alpha_t6_o2</td>\n",
       "      <td>0.814286</td>\n",
       "      <td>0</td>\n",
       "      <td>0.789286</td>\n",
       "      <td>0.791071</td>\n",
       "      <td>0.025000</td>\n",
       "    </tr>\n",
       "    <tr>\n",
       "      <th>4</th>\n",
       "      <td>bands_gamma_o2</td>\n",
       "      <td>0.812500</td>\n",
       "      <td>1</td>\n",
       "      <td>0.776786</td>\n",
       "      <td>0.807143</td>\n",
       "      <td>0.035714</td>\n",
       "    </tr>\n",
       "  </tbody>\n",
       "</table>\n",
       "</div>"
      ],
      "text/plain": [
       "           feature  roc_auc_full  sign  roc_auc_part1  roc_auc_part2      diff\n",
       "0   bands_gamma_t6      0.855357     1       0.851786       0.835714  0.019643\n",
       "1   bands_gamma_pz      0.833929     1       0.816071       0.807143  0.026786\n",
       "2   bands_gamma_c3      0.816071     1       0.803571       0.805357  0.012500\n",
       "3  coh_alpha_t6_o2      0.814286     0       0.789286       0.791071  0.025000\n",
       "4   bands_gamma_o2      0.812500     1       0.776786       0.807143  0.035714"
      ]
     },
     "execution_count": 364,
     "metadata": {},
     "output_type": "execute_result"
    }
   ],
   "source": [
    "get_merged_feat_scores(df, df_1, df_2, to_select['2-4']).head(5)"
   ]
  },
  {
   "cell_type": "code",
   "execution_count": 365,
   "metadata": {},
   "outputs": [
    {
     "data": {
      "text/html": [
       "<div>\n",
       "<style scoped>\n",
       "    .dataframe tbody tr th:only-of-type {\n",
       "        vertical-align: middle;\n",
       "    }\n",
       "\n",
       "    .dataframe tbody tr th {\n",
       "        vertical-align: top;\n",
       "    }\n",
       "\n",
       "    .dataframe thead th {\n",
       "        text-align: right;\n",
       "    }\n",
       "</style>\n",
       "<table border=\"1\" class=\"dataframe\">\n",
       "  <thead>\n",
       "    <tr style=\"text-align: right;\">\n",
       "      <th></th>\n",
       "      <th>feature</th>\n",
       "      <th>roc_auc_full</th>\n",
       "      <th>sign</th>\n",
       "      <th>roc_auc_part1</th>\n",
       "      <th>roc_auc_part2</th>\n",
       "      <th>diff</th>\n",
       "    </tr>\n",
       "  </thead>\n",
       "  <tbody>\n",
       "    <tr>\n",
       "      <th>0</th>\n",
       "      <td>coh_theta_f7_f8</td>\n",
       "      <td>0.843672</td>\n",
       "      <td>0</td>\n",
       "      <td>0.821340</td>\n",
       "      <td>0.803970</td>\n",
       "      <td>0.039702</td>\n",
       "    </tr>\n",
       "    <tr>\n",
       "      <th>1</th>\n",
       "      <td>coh_theta_fp2_f7</td>\n",
       "      <td>0.813896</td>\n",
       "      <td>0</td>\n",
       "      <td>0.800248</td>\n",
       "      <td>0.812655</td>\n",
       "      <td>0.013648</td>\n",
       "    </tr>\n",
       "    <tr>\n",
       "      <th>2</th>\n",
       "      <td>env_theta_t5_t6</td>\n",
       "      <td>0.812655</td>\n",
       "      <td>0</td>\n",
       "      <td>0.774194</td>\n",
       "      <td>0.764268</td>\n",
       "      <td>0.048387</td>\n",
       "    </tr>\n",
       "    <tr>\n",
       "      <th>3</th>\n",
       "      <td>coh_theta_t5_t6</td>\n",
       "      <td>0.781638</td>\n",
       "      <td>0</td>\n",
       "      <td>0.744417</td>\n",
       "      <td>0.785360</td>\n",
       "      <td>0.040943</td>\n",
       "    </tr>\n",
       "    <tr>\n",
       "      <th>4</th>\n",
       "      <td>bands_gamma_pz</td>\n",
       "      <td>0.774194</td>\n",
       "      <td>0</td>\n",
       "      <td>0.811414</td>\n",
       "      <td>0.801489</td>\n",
       "      <td>0.037221</td>\n",
       "    </tr>\n",
       "  </tbody>\n",
       "</table>\n",
       "</div>"
      ],
      "text/plain": [
       "            feature  roc_auc_full  sign  roc_auc_part1  roc_auc_part2  \\\n",
       "0   coh_theta_f7_f8      0.843672     0       0.821340       0.803970   \n",
       "1  coh_theta_fp2_f7      0.813896     0       0.800248       0.812655   \n",
       "2   env_theta_t5_t6      0.812655     0       0.774194       0.764268   \n",
       "3   coh_theta_t5_t6      0.781638     0       0.744417       0.785360   \n",
       "4    bands_gamma_pz      0.774194     0       0.811414       0.801489   \n",
       "\n",
       "       diff  \n",
       "0  0.039702  \n",
       "1  0.013648  \n",
       "2  0.048387  \n",
       "3  0.040943  \n",
       "4  0.037221  "
      ]
     },
     "execution_count": 365,
     "metadata": {},
     "output_type": "execute_result"
    }
   ],
   "source": [
    "get_merged_feat_scores(df, df_1, df_2, to_select['5-6']).head(5)"
   ]
  },
  {
   "cell_type": "code",
   "execution_count": 366,
   "metadata": {},
   "outputs": [
    {
     "data": {
      "text/html": [
       "<div>\n",
       "<style scoped>\n",
       "    .dataframe tbody tr th:only-of-type {\n",
       "        vertical-align: middle;\n",
       "    }\n",
       "\n",
       "    .dataframe tbody tr th {\n",
       "        vertical-align: top;\n",
       "    }\n",
       "\n",
       "    .dataframe thead th {\n",
       "        text-align: right;\n",
       "    }\n",
       "</style>\n",
       "<table border=\"1\" class=\"dataframe\">\n",
       "  <thead>\n",
       "    <tr style=\"text-align: right;\">\n",
       "      <th></th>\n",
       "      <th>feature</th>\n",
       "      <th>roc_auc_full</th>\n",
       "      <th>sign</th>\n",
       "      <th>roc_auc_part1</th>\n",
       "      <th>roc_auc_part2</th>\n",
       "      <th>diff</th>\n",
       "    </tr>\n",
       "  </thead>\n",
       "  <tbody>\n",
       "    <tr>\n",
       "      <th>0</th>\n",
       "      <td>coh_alpha_f8_pz</td>\n",
       "      <td>0.712902</td>\n",
       "      <td>1</td>\n",
       "      <td>0.684855</td>\n",
       "      <td>0.643549</td>\n",
       "      <td>0.069352</td>\n",
       "    </tr>\n",
       "    <tr>\n",
       "      <th>1</th>\n",
       "      <td>env_beta_t5_o1</td>\n",
       "      <td>0.709842</td>\n",
       "      <td>0</td>\n",
       "      <td>0.716471</td>\n",
       "      <td>0.690974</td>\n",
       "      <td>0.025497</td>\n",
       "    </tr>\n",
       "    <tr>\n",
       "      <th>2</th>\n",
       "      <td>coh_beta_t5_o1</td>\n",
       "      <td>0.693524</td>\n",
       "      <td>0</td>\n",
       "      <td>0.678225</td>\n",
       "      <td>0.690974</td>\n",
       "      <td>0.015298</td>\n",
       "    </tr>\n",
       "    <tr>\n",
       "      <th>3</th>\n",
       "      <td>env_beta_t3_o1</td>\n",
       "      <td>0.693014</td>\n",
       "      <td>0</td>\n",
       "      <td>0.667517</td>\n",
       "      <td>0.645079</td>\n",
       "      <td>0.047935</td>\n",
       "    </tr>\n",
       "    <tr>\n",
       "      <th>4</th>\n",
       "      <td>env_beta_t3_t6</td>\n",
       "      <td>0.688934</td>\n",
       "      <td>0</td>\n",
       "      <td>0.670066</td>\n",
       "      <td>0.610403</td>\n",
       "      <td>0.078531</td>\n",
       "    </tr>\n",
       "  </tbody>\n",
       "</table>\n",
       "</div>"
      ],
      "text/plain": [
       "           feature  roc_auc_full  sign  roc_auc_part1  roc_auc_part2      diff\n",
       "0  coh_alpha_f8_pz      0.712902     1       0.684855       0.643549  0.069352\n",
       "1   env_beta_t5_o1      0.709842     0       0.716471       0.690974  0.025497\n",
       "2   coh_beta_t5_o1      0.693524     0       0.678225       0.690974  0.015298\n",
       "3   env_beta_t3_o1      0.693014     0       0.667517       0.645079  0.047935\n",
       "4   env_beta_t3_t6      0.688934     0       0.670066       0.610403  0.078531"
      ]
     },
     "execution_count": 366,
     "metadata": {},
     "output_type": "execute_result"
    }
   ],
   "source": [
    "get_merged_feat_scores(df, df_1, df_2, to_select['7+']).head(5)"
   ]
  },
  {
   "cell_type": "code",
   "execution_count": 367,
   "metadata": {},
   "outputs": [
    {
     "data": {
      "text/html": [
       "<div>\n",
       "<style scoped>\n",
       "    .dataframe tbody tr th:only-of-type {\n",
       "        vertical-align: middle;\n",
       "    }\n",
       "\n",
       "    .dataframe tbody tr th {\n",
       "        vertical-align: top;\n",
       "    }\n",
       "\n",
       "    .dataframe thead th {\n",
       "        text-align: right;\n",
       "    }\n",
       "</style>\n",
       "<table border=\"1\" class=\"dataframe\">\n",
       "  <thead>\n",
       "    <tr style=\"text-align: right;\">\n",
       "      <th></th>\n",
       "      <th>feature</th>\n",
       "      <th>roc_auc_full</th>\n",
       "      <th>sign</th>\n",
       "      <th>roc_auc_part1</th>\n",
       "      <th>roc_auc_part2</th>\n",
       "      <th>diff</th>\n",
       "    </tr>\n",
       "  </thead>\n",
       "  <tbody>\n",
       "    <tr>\n",
       "      <th>0</th>\n",
       "      <td>env_beta_fp1_t3</td>\n",
       "      <td>0.786325</td>\n",
       "      <td>0</td>\n",
       "      <td>0.779487</td>\n",
       "      <td>0.789744</td>\n",
       "      <td>0.010256</td>\n",
       "    </tr>\n",
       "    <tr>\n",
       "      <th>1</th>\n",
       "      <td>env_beta_fp1_c3</td>\n",
       "      <td>0.786325</td>\n",
       "      <td>0</td>\n",
       "      <td>0.783761</td>\n",
       "      <td>0.763248</td>\n",
       "      <td>0.023077</td>\n",
       "    </tr>\n",
       "    <tr>\n",
       "      <th>2</th>\n",
       "      <td>coh_beta_fp1_f3</td>\n",
       "      <td>0.782051</td>\n",
       "      <td>0</td>\n",
       "      <td>0.779487</td>\n",
       "      <td>0.744444</td>\n",
       "      <td>0.037607</td>\n",
       "    </tr>\n",
       "    <tr>\n",
       "      <th>3</th>\n",
       "      <td>coh_alpha_fp1_f3</td>\n",
       "      <td>0.781197</td>\n",
       "      <td>0</td>\n",
       "      <td>0.745299</td>\n",
       "      <td>0.764957</td>\n",
       "      <td>0.035897</td>\n",
       "    </tr>\n",
       "    <tr>\n",
       "      <th>4</th>\n",
       "      <td>coh_theta_t3_t4</td>\n",
       "      <td>0.779487</td>\n",
       "      <td>0</td>\n",
       "      <td>0.752137</td>\n",
       "      <td>0.809402</td>\n",
       "      <td>0.057265</td>\n",
       "    </tr>\n",
       "  </tbody>\n",
       "</table>\n",
       "</div>"
      ],
      "text/plain": [
       "            feature  roc_auc_full  sign  roc_auc_part1  roc_auc_part2  \\\n",
       "0   env_beta_fp1_t3      0.786325     0       0.779487       0.789744   \n",
       "1   env_beta_fp1_c3      0.786325     0       0.783761       0.763248   \n",
       "2   coh_beta_fp1_f3      0.782051     0       0.779487       0.744444   \n",
       "3  coh_alpha_fp1_f3      0.781197     0       0.745299       0.764957   \n",
       "4   coh_theta_t3_t4      0.779487     0       0.752137       0.809402   \n",
       "\n",
       "       diff  \n",
       "0  0.010256  \n",
       "1  0.023077  \n",
       "2  0.037607  \n",
       "3  0.035897  \n",
       "4  0.057265  "
      ]
     },
     "execution_count": 367,
     "metadata": {},
     "output_type": "execute_result"
    }
   ],
   "source": [
    "get_merged_feat_scores(df, df_1, df_2, to_select['6-8']).head(5)"
   ]
  },
  {
   "cell_type": "code",
   "execution_count": 368,
   "metadata": {},
   "outputs": [
    {
     "data": {
      "text/html": [
       "<div>\n",
       "<style scoped>\n",
       "    .dataframe tbody tr th:only-of-type {\n",
       "        vertical-align: middle;\n",
       "    }\n",
       "\n",
       "    .dataframe tbody tr th {\n",
       "        vertical-align: top;\n",
       "    }\n",
       "\n",
       "    .dataframe thead th {\n",
       "        text-align: right;\n",
       "    }\n",
       "</style>\n",
       "<table border=\"1\" class=\"dataframe\">\n",
       "  <thead>\n",
       "    <tr style=\"text-align: right;\">\n",
       "      <th></th>\n",
       "      <th>feature</th>\n",
       "      <th>roc_auc_full</th>\n",
       "      <th>sign</th>\n",
       "      <th>roc_auc_part1</th>\n",
       "      <th>roc_auc_part2</th>\n",
       "      <th>diff</th>\n",
       "    </tr>\n",
       "  </thead>\n",
       "  <tbody>\n",
       "    <tr>\n",
       "      <th>0</th>\n",
       "      <td>env_beta_p4_o2</td>\n",
       "      <td>0.866359</td>\n",
       "      <td>0</td>\n",
       "      <td>0.776498</td>\n",
       "      <td>0.896313</td>\n",
       "      <td>0.119816</td>\n",
       "    </tr>\n",
       "    <tr>\n",
       "      <th>1</th>\n",
       "      <td>env_beta_t3_t4</td>\n",
       "      <td>0.852535</td>\n",
       "      <td>0</td>\n",
       "      <td>0.843318</td>\n",
       "      <td>0.806452</td>\n",
       "      <td>0.046083</td>\n",
       "    </tr>\n",
       "    <tr>\n",
       "      <th>2</th>\n",
       "      <td>coh_beta_pz_o1</td>\n",
       "      <td>0.834101</td>\n",
       "      <td>0</td>\n",
       "      <td>0.797235</td>\n",
       "      <td>0.799539</td>\n",
       "      <td>0.036866</td>\n",
       "    </tr>\n",
       "    <tr>\n",
       "      <th>3</th>\n",
       "      <td>env_alpha_p3_p4</td>\n",
       "      <td>0.829493</td>\n",
       "      <td>0</td>\n",
       "      <td>0.792627</td>\n",
       "      <td>0.705069</td>\n",
       "      <td>0.124424</td>\n",
       "    </tr>\n",
       "    <tr>\n",
       "      <th>4</th>\n",
       "      <td>env_beta_t5_o2</td>\n",
       "      <td>0.824885</td>\n",
       "      <td>0</td>\n",
       "      <td>0.788018</td>\n",
       "      <td>0.801843</td>\n",
       "      <td>0.036866</td>\n",
       "    </tr>\n",
       "  </tbody>\n",
       "</table>\n",
       "</div>"
      ],
      "text/plain": [
       "           feature  roc_auc_full  sign  roc_auc_part1  roc_auc_part2      diff\n",
       "0   env_beta_p4_o2      0.866359     0       0.776498       0.896313  0.119816\n",
       "1   env_beta_t3_t4      0.852535     0       0.843318       0.806452  0.046083\n",
       "2   coh_beta_pz_o1      0.834101     0       0.797235       0.799539  0.036866\n",
       "3  env_alpha_p3_p4      0.829493     0       0.792627       0.705069  0.124424\n",
       "4   env_beta_t5_o2      0.824885     0       0.788018       0.801843  0.036866"
      ]
     },
     "execution_count": 368,
     "metadata": {},
     "output_type": "execute_result"
    }
   ],
   "source": [
    "get_merged_feat_scores(df, df_1, df_2, to_select['7-8']).head(5)"
   ]
  },
  {
   "cell_type": "code",
   "execution_count": 369,
   "metadata": {},
   "outputs": [
    {
     "data": {
      "text/html": [
       "<div>\n",
       "<style scoped>\n",
       "    .dataframe tbody tr th:only-of-type {\n",
       "        vertical-align: middle;\n",
       "    }\n",
       "\n",
       "    .dataframe tbody tr th {\n",
       "        vertical-align: top;\n",
       "    }\n",
       "\n",
       "    .dataframe thead th {\n",
       "        text-align: right;\n",
       "    }\n",
       "</style>\n",
       "<table border=\"1\" class=\"dataframe\">\n",
       "  <thead>\n",
       "    <tr style=\"text-align: right;\">\n",
       "      <th></th>\n",
       "      <th>feature</th>\n",
       "      <th>roc_auc_full</th>\n",
       "      <th>sign</th>\n",
       "      <th>roc_auc_part1</th>\n",
       "      <th>roc_auc_part2</th>\n",
       "      <th>diff</th>\n",
       "    </tr>\n",
       "  </thead>\n",
       "  <tbody>\n",
       "    <tr>\n",
       "      <th>0</th>\n",
       "      <td>coh_alpha_f4_pz</td>\n",
       "      <td>0.808300</td>\n",
       "      <td>1</td>\n",
       "      <td>0.747036</td>\n",
       "      <td>0.695652</td>\n",
       "      <td>0.112648</td>\n",
       "    </tr>\n",
       "    <tr>\n",
       "      <th>1</th>\n",
       "      <td>coh_alpha_f8_pz</td>\n",
       "      <td>0.800395</td>\n",
       "      <td>1</td>\n",
       "      <td>0.737154</td>\n",
       "      <td>0.723320</td>\n",
       "      <td>0.077075</td>\n",
       "    </tr>\n",
       "    <tr>\n",
       "      <th>2</th>\n",
       "      <td>coh_alpha_fp2_pz</td>\n",
       "      <td>0.784585</td>\n",
       "      <td>1</td>\n",
       "      <td>0.774704</td>\n",
       "      <td>0.727273</td>\n",
       "      <td>0.057312</td>\n",
       "    </tr>\n",
       "    <tr>\n",
       "      <th>3</th>\n",
       "      <td>coh_theta_f7_f3</td>\n",
       "      <td>0.776680</td>\n",
       "      <td>1</td>\n",
       "      <td>0.778656</td>\n",
       "      <td>0.709486</td>\n",
       "      <td>0.069170</td>\n",
       "    </tr>\n",
       "    <tr>\n",
       "      <th>4</th>\n",
       "      <td>coh_alpha_f8_p3</td>\n",
       "      <td>0.766798</td>\n",
       "      <td>1</td>\n",
       "      <td>0.786561</td>\n",
       "      <td>0.717391</td>\n",
       "      <td>0.069170</td>\n",
       "    </tr>\n",
       "  </tbody>\n",
       "</table>\n",
       "</div>"
      ],
      "text/plain": [
       "            feature  roc_auc_full  sign  roc_auc_part1  roc_auc_part2  \\\n",
       "0   coh_alpha_f4_pz      0.808300     1       0.747036       0.695652   \n",
       "1   coh_alpha_f8_pz      0.800395     1       0.737154       0.723320   \n",
       "2  coh_alpha_fp2_pz      0.784585     1       0.774704       0.727273   \n",
       "3   coh_theta_f7_f3      0.776680     1       0.778656       0.709486   \n",
       "4   coh_alpha_f8_p3      0.766798     1       0.786561       0.717391   \n",
       "\n",
       "       diff  \n",
       "0  0.112648  \n",
       "1  0.077075  \n",
       "2  0.057312  \n",
       "3  0.069170  \n",
       "4  0.069170  "
      ]
     },
     "execution_count": 369,
     "metadata": {},
     "output_type": "execute_result"
    }
   ],
   "source": [
    "get_merged_feat_scores(df, df_1, df_2, to_select['9+']).head(5)"
   ]
  },
  {
   "cell_type": "code",
   "execution_count": null,
   "metadata": {},
   "outputs": [],
   "source": []
  },
  {
   "cell_type": "code",
   "execution_count": null,
   "metadata": {},
   "outputs": [],
   "source": []
  },
  {
   "cell_type": "markdown",
   "metadata": {},
   "source": [
    "## Строим модель\n",
    "\n",
    "Для отбора признаков будем использовать порог 0.01/0.02, по результам моих предыдущих экспериментов. На всякий случай я проверил еще несколько значений на группе возраста 5-6, данные пороги можно считать оптимальным. Целевое количество признаков - 5-10"
   ]
  },
  {
   "cell_type": "code",
   "execution_count": 370,
   "metadata": {},
   "outputs": [],
   "source": [
    "model = pipeline.models.LRScaled()"
   ]
  },
  {
   "cell_type": "code",
   "execution_count": 395,
   "metadata": {},
   "outputs": [],
   "source": [
    "def order_func(features, df):\n",
    "    scores = get_feat_scores(df).sort_values('roc_auc', ascending=False)\n",
    "    feature_candidates = scores.head(150)['feature'].tolist()\n",
    "    return feature_candidates\n",
    "\n",
    "features = [col for col in df.columns if col not in ['fn', 'target']]"
   ]
  },
  {
   "cell_type": "markdown",
   "metadata": {},
   "source": [
    "### Все возраста"
   ]
  },
  {
   "cell_type": "code",
   "execution_count": 396,
   "metadata": {},
   "outputs": [
    {
     "name": "stdout",
     "output_type": "stream",
     "text": [
      "Feature selection. Step 1\n"
     ]
    },
    {
     "data": {
      "application/vnd.jupyter.widget-view+json": {
       "model_id": "90cee2cff52548a9ad84f3afbcd18598",
       "version_major": 2,
       "version_minor": 0
      },
      "text/plain": [
       "HBox(children=(IntProgress(value=0, max=150), HTML(value='')))"
      ]
     },
     "metadata": {},
     "output_type": "display_data"
    },
    {
     "name": "stdout",
     "output_type": "stream",
     "text": [
      "Feature selection. Step 2\n"
     ]
    },
    {
     "data": {
      "text/html": [
       "<div>\n",
       "<style scoped>\n",
       "    .dataframe tbody tr th:only-of-type {\n",
       "        vertical-align: middle;\n",
       "    }\n",
       "\n",
       "    .dataframe tbody tr th {\n",
       "        vertical-align: top;\n",
       "    }\n",
       "\n",
       "    .dataframe thead th {\n",
       "        text-align: right;\n",
       "    }\n",
       "</style>\n",
       "<table border=\"1\" class=\"dataframe\">\n",
       "  <thead>\n",
       "    <tr style=\"text-align: right;\">\n",
       "      <th></th>\n",
       "      <th>feature</th>\n",
       "      <th>action</th>\n",
       "      <th>score</th>\n",
       "      <th>score_std</th>\n",
       "      <th>score_val</th>\n",
       "      <th>score_val_std</th>\n",
       "    </tr>\n",
       "  </thead>\n",
       "  <tbody>\n",
       "    <tr>\n",
       "      <th>0</th>\n",
       "      <td>coh_theta_t3_t4</td>\n",
       "      <td>added</td>\n",
       "      <td>0.681920</td>\n",
       "      <td>0.003819</td>\n",
       "      <td>0.669670</td>\n",
       "      <td>0.005231</td>\n",
       "    </tr>\n",
       "    <tr>\n",
       "      <th>1</th>\n",
       "      <td>env_alpha_t6_o1</td>\n",
       "      <td>added</td>\n",
       "      <td>0.734986</td>\n",
       "      <td>0.005331</td>\n",
       "      <td>0.714433</td>\n",
       "      <td>0.005253</td>\n",
       "    </tr>\n",
       "    <tr>\n",
       "      <th>2</th>\n",
       "      <td>env_beta_t6_o1</td>\n",
       "      <td>added</td>\n",
       "      <td>0.746231</td>\n",
       "      <td>0.005037</td>\n",
       "      <td>0.703724</td>\n",
       "      <td>0.008356</td>\n",
       "    </tr>\n",
       "    <tr>\n",
       "      <th>3</th>\n",
       "      <td>bands_beta_t6</td>\n",
       "      <td>added</td>\n",
       "      <td>0.762147</td>\n",
       "      <td>0.004292</td>\n",
       "      <td>0.716594</td>\n",
       "      <td>0.007839</td>\n",
       "    </tr>\n",
       "    <tr>\n",
       "      <th>4</th>\n",
       "      <td>env_alpha_t3_o2</td>\n",
       "      <td>added</td>\n",
       "      <td>0.775473</td>\n",
       "      <td>0.005052</td>\n",
       "      <td>0.718490</td>\n",
       "      <td>0.007168</td>\n",
       "    </tr>\n",
       "    <tr>\n",
       "      <th>5</th>\n",
       "      <td>coh_theta_t4_o1</td>\n",
       "      <td>added</td>\n",
       "      <td>0.790774</td>\n",
       "      <td>0.006627</td>\n",
       "      <td>0.743215</td>\n",
       "      <td>0.007144</td>\n",
       "    </tr>\n",
       "    <tr>\n",
       "      <th>6</th>\n",
       "      <td>coh_theta_c3_t4</td>\n",
       "      <td>added</td>\n",
       "      <td>0.801248</td>\n",
       "      <td>0.005846</td>\n",
       "      <td>0.739678</td>\n",
       "      <td>0.008895</td>\n",
       "    </tr>\n",
       "    <tr>\n",
       "      <th>7</th>\n",
       "      <td>coh_beta_f4_c3</td>\n",
       "      <td>added</td>\n",
       "      <td>0.814068</td>\n",
       "      <td>0.004683</td>\n",
       "      <td>0.763223</td>\n",
       "      <td>0.007374</td>\n",
       "    </tr>\n",
       "  </tbody>\n",
       "</table>\n",
       "</div>"
      ],
      "text/plain": [
       "           feature action     score  score_std  score_val  score_val_std\n",
       "0  coh_theta_t3_t4  added  0.681920   0.003819   0.669670       0.005231\n",
       "1  env_alpha_t6_o1  added  0.734986   0.005331   0.714433       0.005253\n",
       "2   env_beta_t6_o1  added  0.746231   0.005037   0.703724       0.008356\n",
       "3    bands_beta_t6  added  0.762147   0.004292   0.716594       0.007839\n",
       "4  env_alpha_t3_o2  added  0.775473   0.005052   0.718490       0.007168\n",
       "5  coh_theta_t4_o1  added  0.790774   0.006627   0.743215       0.007144\n",
       "6  coh_theta_c3_t4  added  0.801248   0.005846   0.739678       0.008895\n",
       "7   coh_beta_f4_c3  added  0.814068   0.004683   0.763223       0.007374"
      ]
     },
     "execution_count": 396,
     "metadata": {},
     "output_type": "execute_result"
    }
   ],
   "source": [
    "features_selected_all, best_score, hist = pipeline.models.select_features(\n",
    "    df_1[df_1['fn'].isin(to_select['All'])], features, model, \n",
    "    df_val=df_2[df_2['fn'].isin(to_select['All'])], \n",
    "    n_repeats=20, threshold=0.01, order_func=order_func)\n",
    "hist"
   ]
  },
  {
   "cell_type": "markdown",
   "metadata": {},
   "source": [
    "### 2-4"
   ]
  },
  {
   "cell_type": "code",
   "execution_count": 397,
   "metadata": {},
   "outputs": [
    {
     "name": "stdout",
     "output_type": "stream",
     "text": [
      "Feature selection. Step 1\n"
     ]
    },
    {
     "data": {
      "application/vnd.jupyter.widget-view+json": {
       "model_id": "0f9f7673ae58494da74eb8c34d0b5fbb",
       "version_major": 2,
       "version_minor": 0
      },
      "text/plain": [
       "HBox(children=(IntProgress(value=0, max=150), HTML(value='')))"
      ]
     },
     "metadata": {},
     "output_type": "display_data"
    },
    {
     "name": "stdout",
     "output_type": "stream",
     "text": [
      "Feature selection. Step 2\n"
     ]
    },
    {
     "data": {
      "text/html": [
       "<div>\n",
       "<style scoped>\n",
       "    .dataframe tbody tr th:only-of-type {\n",
       "        vertical-align: middle;\n",
       "    }\n",
       "\n",
       "    .dataframe tbody tr th {\n",
       "        vertical-align: top;\n",
       "    }\n",
       "\n",
       "    .dataframe thead th {\n",
       "        text-align: right;\n",
       "    }\n",
       "</style>\n",
       "<table border=\"1\" class=\"dataframe\">\n",
       "  <thead>\n",
       "    <tr style=\"text-align: right;\">\n",
       "      <th></th>\n",
       "      <th>feature</th>\n",
       "      <th>action</th>\n",
       "      <th>score</th>\n",
       "      <th>score_std</th>\n",
       "      <th>score_val</th>\n",
       "      <th>score_val_std</th>\n",
       "    </tr>\n",
       "  </thead>\n",
       "  <tbody>\n",
       "    <tr>\n",
       "      <th>0</th>\n",
       "      <td>bands_gamma_t6</td>\n",
       "      <td>added</td>\n",
       "      <td>0.767946</td>\n",
       "      <td>0.036940</td>\n",
       "      <td>0.752054</td>\n",
       "      <td>0.031122</td>\n",
       "    </tr>\n",
       "    <tr>\n",
       "      <th>1</th>\n",
       "      <td>env_alpha_p4_t6</td>\n",
       "      <td>added</td>\n",
       "      <td>0.830536</td>\n",
       "      <td>0.010338</td>\n",
       "      <td>0.815179</td>\n",
       "      <td>0.011562</td>\n",
       "    </tr>\n",
       "    <tr>\n",
       "      <th>2</th>\n",
       "      <td>bands_gamma_pz</td>\n",
       "      <td>added</td>\n",
       "      <td>0.869107</td>\n",
       "      <td>0.008382</td>\n",
       "      <td>0.802411</td>\n",
       "      <td>0.012583</td>\n",
       "    </tr>\n",
       "    <tr>\n",
       "      <th>3</th>\n",
       "      <td>env_beta_f7_c3</td>\n",
       "      <td>added</td>\n",
       "      <td>0.891071</td>\n",
       "      <td>0.008207</td>\n",
       "      <td>0.856429</td>\n",
       "      <td>0.009775</td>\n",
       "    </tr>\n",
       "    <tr>\n",
       "      <th>4</th>\n",
       "      <td>coh_alpha_t3_c3</td>\n",
       "      <td>added</td>\n",
       "      <td>0.909464</td>\n",
       "      <td>0.008151</td>\n",
       "      <td>0.880714</td>\n",
       "      <td>0.006259</td>\n",
       "    </tr>\n",
       "    <tr>\n",
       "      <th>5</th>\n",
       "      <td>env_theta_f8_t3</td>\n",
       "      <td>added</td>\n",
       "      <td>0.935268</td>\n",
       "      <td>0.005993</td>\n",
       "      <td>0.894732</td>\n",
       "      <td>0.008060</td>\n",
       "    </tr>\n",
       "    <tr>\n",
       "      <th>6</th>\n",
       "      <td>env_beta_f7_c3</td>\n",
       "      <td>removed</td>\n",
       "      <td>0.945804</td>\n",
       "      <td>0.006017</td>\n",
       "      <td>0.902232</td>\n",
       "      <td>0.009618</td>\n",
       "    </tr>\n",
       "  </tbody>\n",
       "</table>\n",
       "</div>"
      ],
      "text/plain": [
       "           feature   action     score  score_std  score_val  score_val_std\n",
       "0   bands_gamma_t6    added  0.767946   0.036940   0.752054       0.031122\n",
       "1  env_alpha_p4_t6    added  0.830536   0.010338   0.815179       0.011562\n",
       "2   bands_gamma_pz    added  0.869107   0.008382   0.802411       0.012583\n",
       "3   env_beta_f7_c3    added  0.891071   0.008207   0.856429       0.009775\n",
       "4  coh_alpha_t3_c3    added  0.909464   0.008151   0.880714       0.006259\n",
       "5  env_theta_f8_t3    added  0.935268   0.005993   0.894732       0.008060\n",
       "6   env_beta_f7_c3  removed  0.945804   0.006017   0.902232       0.009618"
      ]
     },
     "execution_count": 397,
     "metadata": {},
     "output_type": "execute_result"
    }
   ],
   "source": [
    "\n",
    "features_selected_24, best_score, hist = pipeline.models.select_features(\n",
    "    df_1[df_1['fn'].isin(to_select['2-4'])], features, model, \n",
    "    df_val=df_2[df_2['fn'].isin(to_select['2-4'])], \n",
    "    n_repeats=20, threshold=0.01, order_func=order_func)\n",
    "hist"
   ]
  },
  {
   "cell_type": "markdown",
   "metadata": {},
   "source": [
    "### 5-6"
   ]
  },
  {
   "cell_type": "code",
   "execution_count": 398,
   "metadata": {},
   "outputs": [
    {
     "name": "stdout",
     "output_type": "stream",
     "text": [
      "Feature selection. Step 1\n"
     ]
    },
    {
     "data": {
      "application/vnd.jupyter.widget-view+json": {
       "model_id": "c0f9d8a82abb4ad48d2d909af0addeb0",
       "version_major": 2,
       "version_minor": 0
      },
      "text/plain": [
       "HBox(children=(IntProgress(value=0, max=150), HTML(value='')))"
      ]
     },
     "metadata": {},
     "output_type": "display_data"
    },
    {
     "name": "stdout",
     "output_type": "stream",
     "text": [
      "Feature selection. Step 2\n"
     ]
    },
    {
     "data": {
      "text/html": [
       "<div>\n",
       "<style scoped>\n",
       "    .dataframe tbody tr th:only-of-type {\n",
       "        vertical-align: middle;\n",
       "    }\n",
       "\n",
       "    .dataframe tbody tr th {\n",
       "        vertical-align: top;\n",
       "    }\n",
       "\n",
       "    .dataframe thead th {\n",
       "        text-align: right;\n",
       "    }\n",
       "</style>\n",
       "<table border=\"1\" class=\"dataframe\">\n",
       "  <thead>\n",
       "    <tr style=\"text-align: right;\">\n",
       "      <th></th>\n",
       "      <th>feature</th>\n",
       "      <th>action</th>\n",
       "      <th>score</th>\n",
       "      <th>score_std</th>\n",
       "      <th>score_val</th>\n",
       "      <th>score_val_std</th>\n",
       "    </tr>\n",
       "  </thead>\n",
       "  <tbody>\n",
       "    <tr>\n",
       "      <th>0</th>\n",
       "      <td>coh_theta_f7_f8</td>\n",
       "      <td>added</td>\n",
       "      <td>0.790757</td>\n",
       "      <td>0.009103</td>\n",
       "      <td>0.776985</td>\n",
       "      <td>0.007474</td>\n",
       "    </tr>\n",
       "    <tr>\n",
       "      <th>1</th>\n",
       "      <td>bands_gamma_pz</td>\n",
       "      <td>added</td>\n",
       "      <td>0.867122</td>\n",
       "      <td>0.008842</td>\n",
       "      <td>0.855397</td>\n",
       "      <td>0.008645</td>\n",
       "    </tr>\n",
       "    <tr>\n",
       "      <th>2</th>\n",
       "      <td>bands_gamma_f7</td>\n",
       "      <td>added</td>\n",
       "      <td>0.884677</td>\n",
       "      <td>0.007511</td>\n",
       "      <td>0.817370</td>\n",
       "      <td>0.009156</td>\n",
       "    </tr>\n",
       "    <tr>\n",
       "      <th>3</th>\n",
       "      <td>coh_theta_fp2_f7</td>\n",
       "      <td>added</td>\n",
       "      <td>0.898449</td>\n",
       "      <td>0.008580</td>\n",
       "      <td>0.843486</td>\n",
       "      <td>0.009966</td>\n",
       "    </tr>\n",
       "    <tr>\n",
       "      <th>4</th>\n",
       "      <td>coh_alpha_fp2_f7</td>\n",
       "      <td>added</td>\n",
       "      <td>0.909864</td>\n",
       "      <td>0.009254</td>\n",
       "      <td>0.830025</td>\n",
       "      <td>0.010163</td>\n",
       "    </tr>\n",
       "    <tr>\n",
       "      <th>5</th>\n",
       "      <td>coh_alpha_fp1_t4</td>\n",
       "      <td>added</td>\n",
       "      <td>0.922457</td>\n",
       "      <td>0.009797</td>\n",
       "      <td>0.837283</td>\n",
       "      <td>0.009811</td>\n",
       "    </tr>\n",
       "    <tr>\n",
       "      <th>6</th>\n",
       "      <td>coh_alpha_f3_f8</td>\n",
       "      <td>added</td>\n",
       "      <td>0.934926</td>\n",
       "      <td>0.009991</td>\n",
       "      <td>0.830645</td>\n",
       "      <td>0.009906</td>\n",
       "    </tr>\n",
       "  </tbody>\n",
       "</table>\n",
       "</div>"
      ],
      "text/plain": [
       "            feature action     score  score_std  score_val  score_val_std\n",
       "0   coh_theta_f7_f8  added  0.790757   0.009103   0.776985       0.007474\n",
       "1    bands_gamma_pz  added  0.867122   0.008842   0.855397       0.008645\n",
       "2    bands_gamma_f7  added  0.884677   0.007511   0.817370       0.009156\n",
       "3  coh_theta_fp2_f7  added  0.898449   0.008580   0.843486       0.009966\n",
       "4  coh_alpha_fp2_f7  added  0.909864   0.009254   0.830025       0.010163\n",
       "5  coh_alpha_fp1_t4  added  0.922457   0.009797   0.837283       0.009811\n",
       "6   coh_alpha_f3_f8  added  0.934926   0.009991   0.830645       0.009906"
      ]
     },
     "execution_count": 398,
     "metadata": {},
     "output_type": "execute_result"
    }
   ],
   "source": [
    "features = [col for col in df.columns if col not in ['fn', 'target']]\n",
    "features_selected_56, best_score, hist = pipeline.models.select_features(\n",
    "    df_1[df_1['fn'].isin(to_select['5-6'])], features, model, \n",
    "    df_val=df_2[df_2['fn'].isin(to_select['5-6'])], \n",
    "    n_repeats=20, threshold=0.01, order_func=order_func)\n",
    "hist"
   ]
  },
  {
   "cell_type": "markdown",
   "metadata": {},
   "source": [
    "### 7-8"
   ]
  },
  {
   "cell_type": "code",
   "execution_count": 399,
   "metadata": {},
   "outputs": [
    {
     "name": "stdout",
     "output_type": "stream",
     "text": [
      "Feature selection. Step 1\n"
     ]
    },
    {
     "data": {
      "application/vnd.jupyter.widget-view+json": {
       "model_id": "cca55e48725d431fbc2354b49c523637",
       "version_major": 2,
       "version_minor": 0
      },
      "text/plain": [
       "HBox(children=(IntProgress(value=0, max=150), HTML(value='')))"
      ]
     },
     "metadata": {},
     "output_type": "display_data"
    },
    {
     "name": "stdout",
     "output_type": "stream",
     "text": [
      "Feature selection. Step 2\n"
     ]
    },
    {
     "data": {
      "text/html": [
       "<div>\n",
       "<style scoped>\n",
       "    .dataframe tbody tr th:only-of-type {\n",
       "        vertical-align: middle;\n",
       "    }\n",
       "\n",
       "    .dataframe tbody tr th {\n",
       "        vertical-align: top;\n",
       "    }\n",
       "\n",
       "    .dataframe thead th {\n",
       "        text-align: right;\n",
       "    }\n",
       "</style>\n",
       "<table border=\"1\" class=\"dataframe\">\n",
       "  <thead>\n",
       "    <tr style=\"text-align: right;\">\n",
       "      <th></th>\n",
       "      <th>feature</th>\n",
       "      <th>action</th>\n",
       "      <th>score</th>\n",
       "      <th>score_std</th>\n",
       "      <th>score_val</th>\n",
       "      <th>score_val_std</th>\n",
       "    </tr>\n",
       "  </thead>\n",
       "  <tbody>\n",
       "    <tr>\n",
       "      <th>0</th>\n",
       "      <td>env_beta_t3_t4</td>\n",
       "      <td>added</td>\n",
       "      <td>0.814286</td>\n",
       "      <td>0.013909</td>\n",
       "      <td>0.760599</td>\n",
       "      <td>0.013785</td>\n",
       "    </tr>\n",
       "    <tr>\n",
       "      <th>1</th>\n",
       "      <td>env_beta_fp1_t3</td>\n",
       "      <td>added</td>\n",
       "      <td>0.831567</td>\n",
       "      <td>0.008921</td>\n",
       "      <td>0.827074</td>\n",
       "      <td>0.012880</td>\n",
       "    </tr>\n",
       "    <tr>\n",
       "      <th>2</th>\n",
       "      <td>bands_beta_t3</td>\n",
       "      <td>added</td>\n",
       "      <td>0.888134</td>\n",
       "      <td>0.007045</td>\n",
       "      <td>0.865438</td>\n",
       "      <td>0.012502</td>\n",
       "    </tr>\n",
       "    <tr>\n",
       "      <th>3</th>\n",
       "      <td>env_beta_p3_t6</td>\n",
       "      <td>added</td>\n",
       "      <td>0.909562</td>\n",
       "      <td>0.004826</td>\n",
       "      <td>0.890207</td>\n",
       "      <td>0.010490</td>\n",
       "    </tr>\n",
       "    <tr>\n",
       "      <th>4</th>\n",
       "      <td>bands_beta_t6</td>\n",
       "      <td>added</td>\n",
       "      <td>0.956106</td>\n",
       "      <td>0.004278</td>\n",
       "      <td>0.875922</td>\n",
       "      <td>0.021716</td>\n",
       "    </tr>\n",
       "  </tbody>\n",
       "</table>\n",
       "</div>"
      ],
      "text/plain": [
       "           feature action     score  score_std  score_val  score_val_std\n",
       "0   env_beta_t3_t4  added  0.814286   0.013909   0.760599       0.013785\n",
       "1  env_beta_fp1_t3  added  0.831567   0.008921   0.827074       0.012880\n",
       "2    bands_beta_t3  added  0.888134   0.007045   0.865438       0.012502\n",
       "3   env_beta_p3_t6  added  0.909562   0.004826   0.890207       0.010490\n",
       "4    bands_beta_t6  added  0.956106   0.004278   0.875922       0.021716"
      ]
     },
     "execution_count": 399,
     "metadata": {},
     "output_type": "execute_result"
    }
   ],
   "source": [
    "features = [col for col in df.columns if col not in ['fn', 'target']]\n",
    "features_selected_78, best_score, hist = pipeline.models.select_features(\n",
    "    df_1[df_1['fn'].isin(to_select['7-8'])], features, model, \n",
    "    df_val=df_2[df_2['fn'].isin(to_select['7-8'])], \n",
    "    n_repeats=20, threshold=0.01, order_func=order_func)\n",
    "hist"
   ]
  },
  {
   "cell_type": "markdown",
   "metadata": {},
   "source": [
    "### 9+"
   ]
  },
  {
   "cell_type": "code",
   "execution_count": null,
   "metadata": {},
   "outputs": [],
   "source": [
    "features = [col for col in df.columns if col not in ['fn', 'target']]\n",
    "features_selected_9x, best_score, hist = pipeline.models.select_features(\n",
    "    df_1[df_1['fn'].isin(to_select['9+'])], features, model, \n",
    "    df_val=df_2[df_2['fn'].isin(to_select['9+'])], \n",
    "    n_repeats=20, threshold=0.02, order_func=order_func)"
   ]
  },
  {
   "cell_type": "code",
   "execution_count": 402,
   "metadata": {},
   "outputs": [
    {
     "data": {
      "text/html": [
       "<div>\n",
       "<style scoped>\n",
       "    .dataframe tbody tr th:only-of-type {\n",
       "        vertical-align: middle;\n",
       "    }\n",
       "\n",
       "    .dataframe tbody tr th {\n",
       "        vertical-align: top;\n",
       "    }\n",
       "\n",
       "    .dataframe thead th {\n",
       "        text-align: right;\n",
       "    }\n",
       "</style>\n",
       "<table border=\"1\" class=\"dataframe\">\n",
       "  <thead>\n",
       "    <tr style=\"text-align: right;\">\n",
       "      <th></th>\n",
       "      <th>feature</th>\n",
       "      <th>action</th>\n",
       "      <th>score</th>\n",
       "      <th>score_std</th>\n",
       "      <th>score_val</th>\n",
       "      <th>score_val_std</th>\n",
       "    </tr>\n",
       "  </thead>\n",
       "  <tbody>\n",
       "    <tr>\n",
       "      <th>0</th>\n",
       "      <td>coh_alpha_f3_p4</td>\n",
       "      <td>added</td>\n",
       "      <td>0.769466</td>\n",
       "      <td>0.015777</td>\n",
       "      <td>0.555435</td>\n",
       "      <td>0.028299</td>\n",
       "    </tr>\n",
       "    <tr>\n",
       "      <th>1</th>\n",
       "      <td>coh_alpha_f8_p3</td>\n",
       "      <td>added</td>\n",
       "      <td>0.808399</td>\n",
       "      <td>0.013613</td>\n",
       "      <td>0.646937</td>\n",
       "      <td>0.015577</td>\n",
       "    </tr>\n",
       "    <tr>\n",
       "      <th>2</th>\n",
       "      <td>env_alpha_fz_c3</td>\n",
       "      <td>added</td>\n",
       "      <td>0.830336</td>\n",
       "      <td>0.013232</td>\n",
       "      <td>0.611166</td>\n",
       "      <td>0.016439</td>\n",
       "    </tr>\n",
       "    <tr>\n",
       "      <th>3</th>\n",
       "      <td>coh_alpha_fp1_p3</td>\n",
       "      <td>added</td>\n",
       "      <td>0.865711</td>\n",
       "      <td>0.013323</td>\n",
       "      <td>0.590613</td>\n",
       "      <td>0.023767</td>\n",
       "    </tr>\n",
       "  </tbody>\n",
       "</table>\n",
       "</div>"
      ],
      "text/plain": [
       "            feature action     score  score_std  score_val  score_val_std\n",
       "0   coh_alpha_f3_p4  added  0.769466   0.015777   0.555435       0.028299\n",
       "1   coh_alpha_f8_p3  added  0.808399   0.013613   0.646937       0.015577\n",
       "2   env_alpha_fz_c3  added  0.830336   0.013232   0.611166       0.016439\n",
       "3  coh_alpha_fp1_p3  added  0.865711   0.013323   0.590613       0.023767"
      ]
     },
     "execution_count": 402,
     "metadata": {},
     "output_type": "execute_result"
    }
   ],
   "source": [
    "hist"
   ]
  },
  {
   "cell_type": "code",
   "execution_count": null,
   "metadata": {},
   "outputs": [],
   "source": []
  },
  {
   "cell_type": "code",
   "execution_count": null,
   "metadata": {},
   "outputs": [],
   "source": []
  },
  {
   "cell_type": "markdown",
   "metadata": {},
   "source": [
    "## Дополнительный раздел - сравниваю варианты обрезки записей\n",
    "\n",
    "**Потом перенести ноутбук с анализом данных**\n",
    "\n",
    "Тут я показываю, что разброс ROC-AUC между частями в среднем одинаковый для различных вариантов данных (полные записи разной длины, первые 13 секунд, первые 30 секунд)\n",
    "\n",
    "Однако чем меньше запись, тем больше дисперсия этой разницы. Иными словами я хочу сказать, что дисперсия ROC-AUC зависит от длины записи. Чем длиннее запись, тем более близкие признаки посчитанные на первой и второй половинах\n",
    "\n",
    "Также есть проблема, что ROC-AUC полной записи может сильно отличаться от половин. Например, 0.75 для полной записи, и 0.7 для первой и второй половин. Не понятно, в чем причина. Это справедливо и для coherence и для envelopes correlation"
   ]
  },
  {
   "cell_type": "code",
   "execution_count": 81,
   "metadata": {},
   "outputs": [],
   "source": [
    "feature_methods = [\n",
    "    'env-alpha',\n",
    "    'env-beta',\n",
    "    'env-theta',\n",
    "    'coh-alpha',\n",
    "    'coh-beta',\n",
    "    'coh-theta',\n",
    "    'bands'\n",
    "]\n",
    "\n",
    "to_select = path_df[(path_df['age'] >= 5) & (path_df['age'] <= 6)]['fn']\n",
    "\n",
    "def get_merged_feat_scores_custom(base_path):\n",
    "\n",
    "    df = pipeline.features.get_merged_df(join(base_path, 'full'), feature_methods)\n",
    "    df = get_binary_target(df)\n",
    "    df = df[df['fn'].isin(to_select)]\n",
    "\n",
    "    df_1 = pipeline.features.get_merged_df(join(base_path, 'part_1'), feature_methods)\n",
    "    df_1 = get_binary_target(df_1)\n",
    "    df_1 = df_1[df_1['fn'].isin(to_select)]\n",
    "\n",
    "    df_2 = pipeline.features.get_merged_df(join(base_path, 'part_2'), feature_methods)\n",
    "    df_2 = get_binary_target(df_2)\n",
    "    df_2 = df_2[df_2['fn'].isin(to_select)]\n",
    "\n",
    "\n",
    "    feat_scores_full = get_feat_scores(df)\n",
    "    feat_scores_part1 = get_feat_scores(df_1)\n",
    "    feat_scores_part2 = get_feat_scores(df_2)\n",
    "\n",
    "    feat_scores_merged = (feat_scores_full\n",
    "        .merge(feat_scores_part1[['feature', 'roc_auc']], on='feature', suffixes=('_full', '_part1'))\n",
    "        .merge(feat_scores_part2[['feature', 'roc_auc']].rename(columns={'roc_auc': 'roc_auc_part2'}), on='feature'))\n",
    "    \n",
    "    feat_scores_merged.sort_values('roc_auc_full', ascending=False, inplace=True)\n",
    "    \n",
    "    feat_scores_merged['diff'] = feat_scores_merged.apply(\n",
    "    lambda row: (\n",
    "        max(row['roc_auc_full'], row['roc_auc_part1'], row['roc_auc_part2']) - \n",
    "        min(row['roc_auc_full'], row['roc_auc_part1'], row['roc_auc_part2'])), \n",
    "    axis=1)\n",
    "    \n",
    "    return feat_scores_merged"
   ]
  },
  {
   "cell_type": "code",
   "execution_count": 82,
   "metadata": {},
   "outputs": [],
   "source": [
    "feat_scores_compl = get_merged_feat_scores_custom('../own_data/200401_autists_features/')\n",
    "feat_scores_thr13 = get_merged_feat_scores_custom('../own_data/200426_autists_features_v2_thr13/')\n",
    "feat_scores_thr30 = get_merged_feat_scores_custom('../own_data/200426_autists_features_v2_thr30/')"
   ]
  },
  {
   "cell_type": "code",
   "execution_count": 83,
   "metadata": {},
   "outputs": [
    {
     "data": {
      "text/plain": [
       "0.056262626262626264"
      ]
     },
     "execution_count": 83,
     "metadata": {},
     "output_type": "execute_result"
    }
   ],
   "source": [
    "feat_scores_compl.head(30)['diff'].mean()"
   ]
  },
  {
   "cell_type": "code",
   "execution_count": 84,
   "metadata": {},
   "outputs": [
    {
     "data": {
      "text/plain": [
       "0.02655326414468246"
      ]
     },
     "execution_count": 84,
     "metadata": {},
     "output_type": "execute_result"
    }
   ],
   "source": [
    "feat_scores_compl.head(30)['diff'].std()"
   ]
  },
  {
   "cell_type": "code",
   "execution_count": 85,
   "metadata": {},
   "outputs": [
    {
     "data": {
      "text/plain": [
       "0.05589225589225588"
      ]
     },
     "execution_count": 85,
     "metadata": {},
     "output_type": "execute_result"
    }
   ],
   "source": [
    "feat_scores_thr13.head(30)['diff'].mean()"
   ]
  },
  {
   "cell_type": "code",
   "execution_count": 86,
   "metadata": {},
   "outputs": [
    {
     "data": {
      "text/plain": [
       "0.04504231457920396"
      ]
     },
     "execution_count": 86,
     "metadata": {},
     "output_type": "execute_result"
    }
   ],
   "source": [
    "feat_scores_thr13.head(30)['diff'].std()"
   ]
  },
  {
   "cell_type": "code",
   "execution_count": 87,
   "metadata": {},
   "outputs": [
    {
     "data": {
      "text/plain": [
       "0.050600961538461546"
      ]
     },
     "execution_count": 87,
     "metadata": {},
     "output_type": "execute_result"
    }
   ],
   "source": [
    "feat_scores_thr30.head(30)['diff'].mean()"
   ]
  },
  {
   "cell_type": "code",
   "execution_count": 88,
   "metadata": {},
   "outputs": [
    {
     "data": {
      "text/plain": [
       "0.03105387278806327"
      ]
     },
     "execution_count": 88,
     "metadata": {},
     "output_type": "execute_result"
    }
   ],
   "source": [
    "feat_scores_thr30.head(30)['diff'].std()"
   ]
  }
 ],
 "metadata": {
  "kernelspec": {
   "display_name": "Python 3",
   "language": "python",
   "name": "python3"
  },
  "language_info": {
   "codemirror_mode": {
    "name": "ipython",
    "version": 3
   },
   "file_extension": ".py",
   "mimetype": "text/x-python",
   "name": "python",
   "nbconvert_exporter": "python",
   "pygments_lexer": "ipython3",
   "version": "3.7.1"
  }
 },
 "nbformat": 4,
 "nbformat_minor": 2
}
