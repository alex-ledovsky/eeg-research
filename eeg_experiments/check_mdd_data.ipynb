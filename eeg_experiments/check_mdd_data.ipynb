{
 "cells": [
  {
   "cell_type": "code",
   "execution_count": 2,
   "id": "24a1f474",
   "metadata": {},
   "outputs": [],
   "source": [
    "%load_ext autoreload\n",
    "%autoreload 2\n",
    "\n",
    "import sys\n",
    "sys.path.append('../')\n",
    "\n",
    "from pathlib import Path\n",
    "import pandas as pd"
   ]
  },
  {
   "cell_type": "code",
   "execution_count": 3,
   "id": "7d8b7ae0",
   "metadata": {},
   "outputs": [],
   "source": [
    "base_path = Path('/Users/zubrikhina/Documents/datasets/EEG_baseline_with_markers/EEG_baseline_Kz_2020_cv/')"
   ]
  },
  {
   "cell_type": "code",
   "execution_count": 4,
   "id": "7ff810c6",
   "metadata": {},
   "outputs": [],
   "source": [
    "data =pd.read_csv(base_path / \"path_file.csv\")"
   ]
  },
  {
   "cell_type": "code",
   "execution_count": 9,
   "id": "db27e84d",
   "metadata": {},
   "outputs": [],
   "source": [
    "columns_list=[]"
   ]
  },
  {
   "cell_type": "code",
   "execution_count": 10,
   "id": "80c03e59",
   "metadata": {},
   "outputs": [],
   "source": [
    "for path in data['fn'].tolist():\n",
    "    data_subject =pd.read_csv(base_path / path)\n",
    "    columns_list.append(data_subject.columns.tolist())"
   ]
  },
  {
   "cell_type": "code",
   "execution_count": 12,
   "id": "a0d4bbfc",
   "metadata": {},
   "outputs": [
    {
     "data": {
      "text/plain": [
       "17"
      ]
     },
     "execution_count": 12,
     "metadata": {},
     "output_type": "execute_result"
    }
   ],
   "source": [
    "len(columns_list[0])"
   ]
  },
  {
   "cell_type": "code",
   "execution_count": 15,
   "id": "eb11d27e",
   "metadata": {},
   "outputs": [],
   "source": [
    "unique_columns =set()"
   ]
  },
  {
   "cell_type": "code",
   "execution_count": 16,
   "id": "74099e96",
   "metadata": {},
   "outputs": [],
   "source": [
    "for column in columns_list:\n",
    "    unique_columns.update(set(column))"
   ]
  },
  {
   "cell_type": "code",
   "execution_count": 19,
   "id": "db3c3426",
   "metadata": {},
   "outputs": [
    {
     "data": {
      "text/plain": [
       "{'C3',\n",
       " 'C4',\n",
       " 'Cz',\n",
       " 'F3',\n",
       " 'F4',\n",
       " 'F7',\n",
       " 'F8',\n",
       " 'Fp1',\n",
       " 'Fp2',\n",
       " 'Fz',\n",
       " 'O1',\n",
       " 'O2',\n",
       " 'P3',\n",
       " 'P4',\n",
       " 'Pz',\n",
       " 'Unnamed: 0',\n",
       " 'time'}"
      ]
     },
     "execution_count": 19,
     "metadata": {},
     "output_type": "execute_result"
    }
   ],
   "source": [
    "unique_columns"
   ]
  },
  {
   "cell_type": "code",
   "execution_count": 20,
   "id": "651f7cd2",
   "metadata": {},
   "outputs": [],
   "source": [
    "for column in columns_list:\n",
    "    if len(column)!=17:\n",
    "        print(column)"
   ]
  },
  {
   "cell_type": "code",
   "execution_count": 21,
   "id": "f87804b1",
   "metadata": {},
   "outputs": [
    {
     "data": {
      "text/plain": [
       "289"
      ]
     },
     "execution_count": 21,
     "metadata": {},
     "output_type": "execute_result"
    }
   ],
   "source": [
    "17*17"
   ]
  },
  {
   "cell_type": "code",
   "execution_count": null,
   "id": "3d27bc53",
   "metadata": {},
   "outputs": [],
   "source": []
  }
 ],
 "metadata": {
  "kernelspec": {
   "display_name": "Python 3 (ipykernel)",
   "language": "python",
   "name": "python3"
  },
  "language_info": {
   "codemirror_mode": {
    "name": "ipython",
    "version": 3
   },
   "file_extension": ".py",
   "mimetype": "text/x-python",
   "name": "python",
   "nbconvert_exporter": "python",
   "pygments_lexer": "ipython3",
   "version": "3.9.7"
  }
 },
 "nbformat": 4,
 "nbformat_minor": 5
}
